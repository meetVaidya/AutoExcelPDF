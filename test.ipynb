{
 "cells": [
  {
   "cell_type": "code",
   "execution_count": 1,
   "metadata": {},
   "outputs": [],
   "source": [
    "from openpyxl import load_workbook\n",
    "\n",
    "# Load the workbook\n",
    "wb = load_workbook(filename='test.xlsm')\n",
    "\n",
    "# Select a sheet\n",
    "sheet = wb['Bills List']\n",
    "\n",
    "cells = []\n",
    "# Iterate over all cells in the sheet\n",
    "for row in sheet.iter_rows():\n",
    "    for cell in row:\n",
    "        if cell.value == 'YJV':\n",
    "            cells.append(cell)\n",
    "\n",
    "# Save the workbook\n",
    "wb.save('test.xlsm')"
   ]
  },
  {
   "cell_type": "code",
   "execution_count": 2,
   "metadata": {},
   "outputs": [
    {
     "name": "stdout",
     "output_type": "stream",
     "text": [
      "[<Cell 'Bills List'.A76>, <Cell 'Bills List'.A77>, <Cell 'Bills List'.A78>, <Cell 'Bills List'.A79>, <Cell 'Bills List'.A80>, <Cell 'Bills List'.A81>, <Cell 'Bills List'.A82>, <Cell 'Bills List'.A83>, <Cell 'Bills List'.A84>, <Cell 'Bills List'.A85>, <Cell 'Bills List'.A86>, <Cell 'Bills List'.A87>, <Cell 'Bills List'.A88>, <Cell 'Bills List'.A89>, <Cell 'Bills List'.A90>, <Cell 'Bills List'.A91>, <Cell 'Bills List'.A92>, <Cell 'Bills List'.A93>, <Cell 'Bills List'.A94>, <Cell 'Bills List'.A95>, <Cell 'Bills List'.A96>, <Cell 'Bills List'.A97>, <Cell 'Bills List'.A98>, <Cell 'Bills List'.A99>, <Cell 'Bills List'.A100>, <Cell 'Bills List'.A101>, <Cell 'Bills List'.A102>, <Cell 'Bills List'.A103>, <Cell 'Bills List'.A104>, <Cell 'Bills List'.A105>, <Cell 'Bills List'.A106>, <Cell 'Bills List'.A107>, <Cell 'Bills List'.A108>, <Cell 'Bills List'.A109>, <Cell 'Bills List'.A110>, <Cell 'Bills List'.A111>, <Cell 'Bills List'.A112>, <Cell 'Bills List'.A113>, <Cell 'Bills List'.A114>, <Cell 'Bills List'.A115>, <Cell 'Bills List'.A116>, <Cell 'Bills List'.A117>, <Cell 'Bills List'.A118>, <Cell 'Bills List'.A119>, <Cell 'Bills List'.A120>, <Cell 'Bills List'.A121>, <Cell 'Bills List'.A122>, <Cell 'Bills List'.A123>, <Cell 'Bills List'.A124>, <Cell 'Bills List'.A125>, <Cell 'Bills List'.A126>, <Cell 'Bills List'.A127>, <Cell 'Bills List'.A128>, <Cell 'Bills List'.A129>, <Cell 'Bills List'.A130>, <Cell 'Bills List'.A131>, <Cell 'Bills List'.A132>, <Cell 'Bills List'.A133>, <Cell 'Bills List'.A134>, <Cell 'Bills List'.A135>, <Cell 'Bills List'.A136>, <Cell 'Bills List'.A137>, <Cell 'Bills List'.A138>, <Cell 'Bills List'.A139>, <Cell 'Bills List'.A140>, <Cell 'Bills List'.A141>, <Cell 'Bills List'.A142>, <Cell 'Bills List'.A143>, <Cell 'Bills List'.A144>, <Cell 'Bills List'.A145>, <Cell 'Bills List'.A146>, <Cell 'Bills List'.A147>, <Cell 'Bills List'.A148>, <Cell 'Bills List'.A149>, <Cell 'Bills List'.A150>, <Cell 'Bills List'.A151>, <Cell 'Bills List'.A152>, <Cell 'Bills List'.A153>, <Cell 'Bills List'.A154>, <Cell 'Bills List'.A155>, <Cell 'Bills List'.A156>, <Cell 'Bills List'.A157>, <Cell 'Bills List'.A158>, <Cell 'Bills List'.A159>, <Cell 'Bills List'.A160>, <Cell 'Bills List'.A161>, <Cell 'Bills List'.A162>, <Cell 'Bills List'.A163>, <Cell 'Bills List'.A164>, <Cell 'Bills List'.A165>, <Cell 'Bills List'.A166>, <Cell 'Bills List'.A167>, <Cell 'Bills List'.A168>, <Cell 'Bills List'.A169>, <Cell 'Bills List'.A170>, <Cell 'Bills List'.A171>, <Cell 'Bills List'.A172>, <Cell 'Bills List'.A173>, <Cell 'Bills List'.A174>, <Cell 'Bills List'.A175>, <Cell 'Bills List'.A176>, <Cell 'Bills List'.A177>, <Cell 'Bills List'.A178>, <Cell 'Bills List'.A179>, <Cell 'Bills List'.A180>, <Cell 'Bills List'.A181>, <Cell 'Bills List'.A182>, <Cell 'Bills List'.A183>, <Cell 'Bills List'.A184>, <Cell 'Bills List'.A185>, <Cell 'Bills List'.A186>, <Cell 'Bills List'.A187>, <Cell 'Bills List'.A188>, <Cell 'Bills List'.A189>, <Cell 'Bills List'.A190>, <Cell 'Bills List'.A191>, <Cell 'Bills List'.A192>, <Cell 'Bills List'.A193>, <Cell 'Bills List'.A194>, <Cell 'Bills List'.A195>, <Cell 'Bills List'.A196>, <Cell 'Bills List'.A197>, <Cell 'Bills List'.A198>, <Cell 'Bills List'.A199>, <Cell 'Bills List'.A200>, <Cell 'Bills List'.A201>, <Cell 'Bills List'.A202>, <Cell 'Bills List'.A203>, <Cell 'Bills List'.A204>, <Cell 'Bills List'.A205>, <Cell 'Bills List'.A206>, <Cell 'Bills List'.A207>, <Cell 'Bills List'.A208>, <Cell 'Bills List'.A209>, <Cell 'Bills List'.A210>, <Cell 'Bills List'.A211>, <Cell 'Bills List'.A212>, <Cell 'Bills List'.A213>, <Cell 'Bills List'.A214>, <Cell 'Bills List'.A215>, <Cell 'Bills List'.A216>, <Cell 'Bills List'.A217>, <Cell 'Bills List'.A218>, <Cell 'Bills List'.A219>, <Cell 'Bills List'.A220>, <Cell 'Bills List'.A221>, <Cell 'Bills List'.A222>, <Cell 'Bills List'.A223>, <Cell 'Bills List'.A224>, <Cell 'Bills List'.A225>, <Cell 'Bills List'.A226>, <Cell 'Bills List'.A227>, <Cell 'Bills List'.A228>, <Cell 'Bills List'.A229>, <Cell 'Bills List'.A230>, <Cell 'Bills List'.A231>, <Cell 'Bills List'.A232>, <Cell 'Bills List'.A233>, <Cell 'Bills List'.A234>, <Cell 'Bills List'.A235>, <Cell 'Bills List'.A236>, <Cell 'Bills List'.A237>, <Cell 'Bills List'.A238>, <Cell 'Bills List'.A239>, <Cell 'Bills List'.A240>, <Cell 'Bills List'.A241>, <Cell 'Bills List'.A242>, <Cell 'Bills List'.A243>, <Cell 'Bills List'.A244>, <Cell 'Bills List'.A245>, <Cell 'Bills List'.A246>, <Cell 'Bills List'.A247>, <Cell 'Bills List'.A248>, <Cell 'Bills List'.A249>, <Cell 'Bills List'.A250>, <Cell 'Bills List'.A251>, <Cell 'Bills List'.A252>, <Cell 'Bills List'.A253>, <Cell 'Bills List'.A254>, <Cell 'Bills List'.A255>, <Cell 'Bills List'.A256>, <Cell 'Bills List'.A257>, <Cell 'Bills List'.A258>, <Cell 'Bills List'.A259>, <Cell 'Bills List'.A260>, <Cell 'Bills List'.A261>, <Cell 'Bills List'.A262>, <Cell 'Bills List'.A263>, <Cell 'Bills List'.A264>, <Cell 'Bills List'.A265>, <Cell 'Bills List'.A266>, <Cell 'Bills List'.A267>, <Cell 'Bills List'.A268>, <Cell 'Bills List'.A269>, <Cell 'Bills List'.A270>, <Cell 'Bills List'.A271>, <Cell 'Bills List'.A272>, <Cell 'Bills List'.A273>, <Cell 'Bills List'.A274>, <Cell 'Bills List'.A275>, <Cell 'Bills List'.A276>, <Cell 'Bills List'.A277>, <Cell 'Bills List'.A278>, <Cell 'Bills List'.A279>, <Cell 'Bills List'.A280>, <Cell 'Bills List'.A281>, <Cell 'Bills List'.A282>, <Cell 'Bills List'.A283>, <Cell 'Bills List'.A284>, <Cell 'Bills List'.A285>, <Cell 'Bills List'.A286>, <Cell 'Bills List'.A287>, <Cell 'Bills List'.A292>, <Cell 'Bills List'.A293>, <Cell 'Bills List'.A294>, <Cell 'Bills List'.A295>, <Cell 'Bills List'.A296>, <Cell 'Bills List'.A298>, <Cell 'Bills List'.A299>, <Cell 'Bills List'.A300>, <Cell 'Bills List'.A301>, <Cell 'Bills List'.A302>, <Cell 'Bills List'.A303>, <Cell 'Bills List'.A304>, <Cell 'Bills List'.A306>, <Cell 'Bills List'.A307>, <Cell 'Bills List'.A309>, <Cell 'Bills List'.A310>, <Cell 'Bills List'.A312>, <Cell 'Bills List'.A313>, <Cell 'Bills List'.A318>, <Cell 'Bills List'.A319>, <Cell 'Bills List'.A321>, <Cell 'Bills List'.A326>, <Cell 'Bills List'.A327>, <Cell 'Bills List'.A328>, <Cell 'Bills List'.A329>, <Cell 'Bills List'.A330>, <Cell 'Bills List'.A331>, <Cell 'Bills List'.A332>, <Cell 'Bills List'.A333>, <Cell 'Bills List'.A334>, <Cell 'Bills List'.A335>, <Cell 'Bills List'.A336>, <Cell 'Bills List'.A337>, <Cell 'Bills List'.A340>, <Cell 'Bills List'.A341>, <Cell 'Bills List'.A342>, <Cell 'Bills List'.A343>, <Cell 'Bills List'.A345>, <Cell 'Bills List'.A346>, <Cell 'Bills List'.A347>, <Cell 'Bills List'.A348>, <Cell 'Bills List'.A350>, <Cell 'Bills List'.A351>, <Cell 'Bills List'.A352>, <Cell 'Bills List'.A353>, <Cell 'Bills List'.A355>, <Cell 'Bills List'.A356>, <Cell 'Bills List'.A360>, <Cell 'Bills List'.A361>, <Cell 'Bills List'.A364>, <Cell 'Bills List'.A366>, <Cell 'Bills List'.A367>, <Cell 'Bills List'.A368>, <Cell 'Bills List'.A369>, <Cell 'Bills List'.A371>, <Cell 'Bills List'.A372>, <Cell 'Bills List'.A373>, <Cell 'Bills List'.A374>, <Cell 'Bills List'.A375>, <Cell 'Bills List'.A376>, <Cell 'Bills List'.A377>, <Cell 'Bills List'.A378>, <Cell 'Bills List'.A379>, <Cell 'Bills List'.A380>, <Cell 'Bills List'.A381>, <Cell 'Bills List'.A383>, <Cell 'Bills List'.A384>, <Cell 'Bills List'.A385>, <Cell 'Bills List'.A386>, <Cell 'Bills List'.A388>, <Cell 'Bills List'.A389>, <Cell 'Bills List'.A390>, <Cell 'Bills List'.A391>, <Cell 'Bills List'.A393>, <Cell 'Bills List'.A394>, <Cell 'Bills List'.A395>, <Cell 'Bills List'.A398>, <Cell 'Bills List'.A399>, <Cell 'Bills List'.A403>, <Cell 'Bills List'.A404>, <Cell 'Bills List'.A406>, <Cell 'Bills List'.A408>, <Cell 'Bills List'.A409>, <Cell 'Bills List'.A410>, <Cell 'Bills List'.A412>, <Cell 'Bills List'.A413>, <Cell 'Bills List'.A414>, <Cell 'Bills List'.A415>, <Cell 'Bills List'.A416>, <Cell 'Bills List'.A417>, <Cell 'Bills List'.A418>, <Cell 'Bills List'.A419>, <Cell 'Bills List'.A420>, <Cell 'Bills List'.A421>, <Cell 'Bills List'.A422>, <Cell 'Bills List'.A423>, <Cell 'Bills List'.A424>, <Cell 'Bills List'.A425>, <Cell 'Bills List'.A426>, <Cell 'Bills List'.A427>, <Cell 'Bills List'.A430>, <Cell 'Bills List'.A431>, <Cell 'Bills List'.A432>, <Cell 'Bills List'.A433>, <Cell 'Bills List'.A434>, <Cell 'Bills List'.A436>, <Cell 'Bills List'.A437>, <Cell 'Bills List'.A438>, <Cell 'Bills List'.A440>, <Cell 'Bills List'.A442>, <Cell 'Bills List'.A443>, <Cell 'Bills List'.A444>, <Cell 'Bills List'.A445>, <Cell 'Bills List'.A446>, <Cell 'Bills List'.A447>, <Cell 'Bills List'.A450>, <Cell 'Bills List'.A451>, <Cell 'Bills List'.A457>, <Cell 'Bills List'.A458>, <Cell 'Bills List'.A461>, <Cell 'Bills List'.A463>, <Cell 'Bills List'.A465>, <Cell 'Bills List'.A466>, <Cell 'Bills List'.A484>, <Cell 'Bills List'.A485>, <Cell 'Bills List'.A486>, <Cell 'Bills List'.A487>, <Cell 'Bills List'.A488>, <Cell 'Bills List'.A490>, <Cell 'Bills List'.A491>, <Cell 'Bills List'.A492>, <Cell 'Bills List'.A493>, <Cell 'Bills List'.A495>, <Cell 'Bills List'.A496>, <Cell 'Bills List'.A497>, <Cell 'Bills List'.A498>, <Cell 'Bills List'.A499>, <Cell 'Bills List'.A500>, <Cell 'Bills List'.A502>, <Cell 'Bills List'.A505>, <Cell 'Bills List'.A506>, <Cell 'Bills List'.A507>, <Cell 'Bills List'.A508>, <Cell 'Bills List'.A509>, <Cell 'Bills List'.A510>, <Cell 'Bills List'.A512>, <Cell 'Bills List'.A513>, <Cell 'Bills List'.A514>, <Cell 'Bills List'.A516>, <Cell 'Bills List'.A517>, <Cell 'Bills List'.A518>, <Cell 'Bills List'.A520>, <Cell 'Bills List'.A521>, <Cell 'Bills List'.A522>, <Cell 'Bills List'.A525>, <Cell 'Bills List'.A526>, <Cell 'Bills List'.A530>, <Cell 'Bills List'.A531>, <Cell 'Bills List'.A534>, <Cell 'Bills List'.A535>, <Cell 'Bills List'.A537>, <Cell 'Bills List'.A549>, <Cell 'Bills List'.A550>, <Cell 'Bills List'.A551>, <Cell 'Bills List'.A552>, <Cell 'Bills List'.A553>, <Cell 'Bills List'.A554>, <Cell 'Bills List'.A555>, <Cell 'Bills List'.A556>, <Cell 'Bills List'.A557>, <Cell 'Bills List'.A558>, <Cell 'Bills List'.A559>, <Cell 'Bills List'.A560>, <Cell 'Bills List'.A561>, <Cell 'Bills List'.A562>, <Cell 'Bills List'.A563>, <Cell 'Bills List'.A564>, <Cell 'Bills List'.A565>, <Cell 'Bills List'.A566>, <Cell 'Bills List'.A568>, <Cell 'Bills List'.A570>, <Cell 'Bills List'.A573>, <Cell 'Bills List'.A574>, <Cell 'Bills List'.A575>, <Cell 'Bills List'.A576>, <Cell 'Bills List'.A577>, <Cell 'Bills List'.A578>, <Cell 'Bills List'.A579>, <Cell 'Bills List'.A580>, <Cell 'Bills List'.A581>, <Cell 'Bills List'.A582>, <Cell 'Bills List'.A583>, <Cell 'Bills List'.A584>, <Cell 'Bills List'.A585>, <Cell 'Bills List'.A586>, <Cell 'Bills List'.A587>, <Cell 'Bills List'.A588>, <Cell 'Bills List'.A589>, <Cell 'Bills List'.A590>, <Cell 'Bills List'.A591>, <Cell 'Bills List'.A592>, <Cell 'Bills List'.A605>, <Cell 'Bills List'.A606>, <Cell 'Bills List'.A608>, <Cell 'Bills List'.A609>, <Cell 'Bills List'.A610>, <Cell 'Bills List'.A612>, <Cell 'Bills List'.A613>, <Cell 'Bills List'.A614>, <Cell 'Bills List'.A616>, <Cell 'Bills List'.A617>, <Cell 'Bills List'.A618>, <Cell 'Bills List'.A621>, <Cell 'Bills List'.A622>, <Cell 'Bills List'.A627>, <Cell 'Bills List'.A628>, <Cell 'Bills List'.A631>, <Cell 'Bills List'.A632>, <Cell 'Bills List'.A634>, <Cell 'Bills List'.A635>, <Cell 'Bills List'.A636>, <Cell 'Bills List'.A637>, <Cell 'Bills List'.A640>, <Cell 'Bills List'.A641>, <Cell 'Bills List'.A642>, <Cell 'Bills List'.A643>, <Cell 'Bills List'.A644>, <Cell 'Bills List'.A646>, <Cell 'Bills List'.A647>, <Cell 'Bills List'.A648>, <Cell 'Bills List'.A649>, <Cell 'Bills List'.A650>, <Cell 'Bills List'.A652>, <Cell 'Bills List'.A654>, <Cell 'Bills List'.A656>, <Cell 'Bills List'.A657>, <Cell 'Bills List'.A660>, <Cell 'Bills List'.A661>, <Cell 'Bills List'.A667>, <Cell 'Bills List'.A668>, <Cell 'Bills List'.A671>, <Cell 'Bills List'.A672>, <Cell 'Bills List'.A674>, <Cell 'Bills List'.A676>, <Cell 'Bills List'.A677>, <Cell 'Bills List'.A678>, <Cell 'Bills List'.A679>, <Cell 'Bills List'.A680>, <Cell 'Bills List'.A683>, <Cell 'Bills List'.A684>, <Cell 'Bills List'.A685>, <Cell 'Bills List'.A688>, <Cell 'Bills List'.A689>, <Cell 'Bills List'.A690>, <Cell 'Bills List'.A692>, <Cell 'Bills List'.A694>, <Cell 'Bills List'.A695>, <Cell 'Bills List'.A698>, <Cell 'Bills List'.A699>, <Cell 'Bills List'.A703>, <Cell 'Bills List'.A704>, <Cell 'Bills List'.A707>, <Cell 'Bills List'.A708>, <Cell 'Bills List'.A710>, <Cell 'Bills List'.A711>, <Cell 'Bills List'.A713>, <Cell 'Bills List'.A714>, <Cell 'Bills List'.A716>, <Cell 'Bills List'.A717>, <Cell 'Bills List'.A718>, <Cell 'Bills List'.A720>, <Cell 'Bills List'.A721>, <Cell 'Bills List'.A722>, <Cell 'Bills List'.A724>, <Cell 'Bills List'.A726>, <Cell 'Bills List'.A727>, <Cell 'Bills List'.A730>, <Cell 'Bills List'.A731>, <Cell 'Bills List'.A735>, <Cell 'Bills List'.A736>, <Cell 'Bills List'.A739>, <Cell 'Bills List'.A740>, <Cell 'Bills List'.A742>, <Cell 'Bills List'.A743>, <Cell 'Bills List'.A744>, <Cell 'Bills List'.A745>, <Cell 'Bills List'.A746>, <Cell 'Bills List'.A747>, <Cell 'Bills List'.A748>, <Cell 'Bills List'.A750>, <Cell 'Bills List'.A751>, <Cell 'Bills List'.A752>, <Cell 'Bills List'.A754>, <Cell 'Bills List'.A755>, <Cell 'Bills List'.A756>, <Cell 'Bills List'.A757>, <Cell 'Bills List'.A759>, <Cell 'Bills List'.A761>, <Cell 'Bills List'.A762>, <Cell 'Bills List'.A765>, <Cell 'Bills List'.A766>, <Cell 'Bills List'.A772>, <Cell 'Bills List'.A773>, <Cell 'Bills List'.A776>, <Cell 'Bills List'.A777>, <Cell 'Bills List'.A778>, <Cell 'Bills List'.A780>, <Cell 'Bills List'.A782>, <Cell 'Bills List'.A783>, <Cell 'Bills List'.A785>, <Cell 'Bills List'.A787>, <Cell 'Bills List'.A788>, <Cell 'Bills List'.A789>, <Cell 'Bills List'.A791>, <Cell 'Bills List'.A792>, <Cell 'Bills List'.A793>, <Cell 'Bills List'.A795>, <Cell 'Bills List'.A796>, <Cell 'Bills List'.A797>, <Cell 'Bills List'.A799>, <Cell 'Bills List'.A801>, <Cell 'Bills List'.A802>, <Cell 'Bills List'.A805>, <Cell 'Bills List'.A806>, <Cell 'Bills List'.A810>, <Cell 'Bills List'.A811>, <Cell 'Bills List'.A814>, <Cell 'Bills List'.A815>, <Cell 'Bills List'.A816>, <Cell 'Bills List'.A818>, <Cell 'Bills List'.A819>, <Cell 'Bills List'.A820>, <Cell 'Bills List'.A823>, <Cell 'Bills List'.A824>, <Cell 'Bills List'.A825>, <Cell 'Bills List'.A826>, <Cell 'Bills List'.A828>, <Cell 'Bills List'.A829>, <Cell 'Bills List'.A830>, <Cell 'Bills List'.A832>, <Cell 'Bills List'.A834>, <Cell 'Bills List'.A835>, <Cell 'Bills List'.A838>, <Cell 'Bills List'.A839>, <Cell 'Bills List'.A843>, <Cell 'Bills List'.A844>, <Cell 'Bills List'.A847>, <Cell 'Bills List'.A848>, <Cell 'Bills List'.A849>, <Cell 'Bills List'.A851>, <Cell 'Bills List'.A852>, <Cell 'Bills List'.A854>, <Cell 'Bills List'.A855>, <Cell 'Bills List'.A857>, <Cell 'Bills List'.A858>, <Cell 'Bills List'.A859>, <Cell 'Bills List'.A860>, <Cell 'Bills List'.A861>, <Cell 'Bills List'.A864>, <Cell 'Bills List'.A865>, <Cell 'Bills List'.A866>, <Cell 'Bills List'.A868>, <Cell 'Bills List'.A869>, <Cell 'Bills List'.A870>, <Cell 'Bills List'.A872>, <Cell 'Bills List'.A874>, <Cell 'Bills List'.A875>, <Cell 'Bills List'.A879>, <Cell 'Bills List'.A880>, <Cell 'Bills List'.A886>, <Cell 'Bills List'.A887>, <Cell 'Bills List'.A890>, <Cell 'Bills List'.A891>, <Cell 'Bills List'.A892>, <Cell 'Bills List'.A895>, <Cell 'Bills List'.A896>, <Cell 'Bills List'.A899>, <Cell 'Bills List'.A900>, <Cell 'Bills List'.A903>, <Cell 'Bills List'.A905>, <Cell 'Bills List'.A906>, <Cell 'Bills List'.A907>, <Cell 'Bills List'.A909>, <Cell 'Bills List'.A910>, <Cell 'Bills List'.A911>, <Cell 'Bills List'.A913>, <Cell 'Bills List'.A915>, <Cell 'Bills List'.A916>, <Cell 'Bills List'.A919>, <Cell 'Bills List'.A920>, <Cell 'Bills List'.A924>, <Cell 'Bills List'.A925>, <Cell 'Bills List'.A928>, <Cell 'Bills List'.A929>, <Cell 'Bills List'.A931>, <Cell 'Bills List'.A932>, <Cell 'Bills List'.A933>, <Cell 'Bills List'.A934>, <Cell 'Bills List'.A936>, <Cell 'Bills List'.A937>, <Cell 'Bills List'.A939>, <Cell 'Bills List'.A940>, <Cell 'Bills List'.A941>, <Cell 'Bills List'.A943>, <Cell 'Bills List'.A945>, <Cell 'Bills List'.A946>, <Cell 'Bills List'.A949>, <Cell 'Bills List'.A950>, <Cell 'Bills List'.A954>, <Cell 'Bills List'.A955>, <Cell 'Bills List'.A958>, <Cell 'Bills List'.A959>, <Cell 'Bills List'.A960>, <Cell 'Bills List'.A962>, <Cell 'Bills List'.A963>, <Cell 'Bills List'.A964>, <Cell 'Bills List'.A966>, <Cell 'Bills List'.A968>, <Cell 'Bills List'.A969>, <Cell 'Bills List'.A970>, <Cell 'Bills List'.A972>, <Cell 'Bills List'.A973>, <Cell 'Bills List'.A974>, <Cell 'Bills List'.A976>, <Cell 'Bills List'.A978>, <Cell 'Bills List'.A979>, <Cell 'Bills List'.A982>, <Cell 'Bills List'.A983>, <Cell 'Bills List'.A987>, <Cell 'Bills List'.A988>, <Cell 'Bills List'.A991>, <Cell 'Bills List'.A992>, <Cell 'Bills List'.A994>, <Cell 'Bills List'.A995>, <Cell 'Bills List'.A996>, <Cell 'Bills List'.A998>, <Cell 'Bills List'.A999>, <Cell 'Bills List'.A1000>, <Cell 'Bills List'.A1002>, <Cell 'Bills List'.A1008>, <Cell 'Bills List'.A1009>, <Cell 'Bills List'.A1011>, <Cell 'Bills List'.A1013>, <Cell 'Bills List'.A1014>, <Cell 'Bills List'.A1015>, <Cell 'Bills List'.A1017>, <Cell 'Bills List'.A1018>, <Cell 'Bills List'.A1019>, <Cell 'Bills List'.A1021>, <Cell 'Bills List'.A1023>, <Cell 'Bills List'.A1024>, <Cell 'Bills List'.A1027>, <Cell 'Bills List'.A1028>, <Cell 'Bills List'.A1032>, <Cell 'Bills List'.A1033>, <Cell 'Bills List'.A1037>, <Cell 'Bills List'.A1038>, <Cell 'Bills List'.A1039>, <Cell 'Bills List'.A1040>, <Cell 'Bills List'.A1042>, <Cell 'Bills List'.A1045>, <Cell 'Bills List'.A1046>, <Cell 'Bills List'.A1048>, <Cell 'Bills List'.A1049>, <Cell 'Bills List'.A1050>, <Cell 'Bills List'.A1052>, <Cell 'Bills List'.A1053>, <Cell 'Bills List'.A1054>, <Cell 'Bills List'.A1056>, <Cell 'Bills List'.A1058>, <Cell 'Bills List'.A1059>, <Cell 'Bills List'.A1063>, <Cell 'Bills List'.A1064>, <Cell 'Bills List'.A1068>, <Cell 'Bills List'.A1069>, <Cell 'Bills List'.A1072>, <Cell 'Bills List'.A1073>, <Cell 'Bills List'.A1074>, <Cell 'Bills List'.A1075>, <Cell 'Bills List'.A1077>, <Cell 'Bills List'.A1079>, <Cell 'Bills List'.A1080>, <Cell 'Bills List'.A1081>, <Cell 'Bills List'.A1082>, <Cell 'Bills List'.A1084>, <Cell 'Bills List'.A1086>, <Cell 'Bills List'.A1087>, <Cell 'Bills List'.A1088>, <Cell 'Bills List'.A1090>, <Cell 'Bills List'.A1091>, <Cell 'Bills List'.A1096>, <Cell 'Bills List'.A1097>, <Cell 'Bills List'.A1098>, <Cell 'Bills List'.A1099>, <Cell 'Bills List'.A1100>, <Cell 'Bills List'.A1101>, <Cell 'Bills List'.A1103>, <Cell 'Bills List'.A1109>, <Cell 'Bills List'.A1110>, <Cell 'Bills List'.A1114>, <Cell 'Bills List'.A1115>, <Cell 'Bills List'.A1116>, <Cell 'Bills List'.A1118>, <Cell 'Bills List'.A1120>, <Cell 'Bills List'.A1122>, <Cell 'Bills List'.A1123>, <Cell 'Bills List'.A1124>, <Cell 'Bills List'.A1127>, <Cell 'Bills List'.A1129>, <Cell 'Bills List'.A1130>, <Cell 'Bills List'.A1131>, <Cell 'Bills List'.A1133>, <Cell 'Bills List'.A1134>, <Cell 'Bills List'.A1135>, <Cell 'Bills List'.A1137>, <Cell 'Bills List'.A1139>, <Cell 'Bills List'.A1140>, <Cell 'Bills List'.A1144>, <Cell 'Bills List'.A1148>, <Cell 'Bills List'.A1149>, <Cell 'Bills List'.A1153>, <Cell 'Bills List'.A1154>, <Cell 'Bills List'.A1155>, <Cell 'Bills List'.A1156>, <Cell 'Bills List'.A1158>, <Cell 'Bills List'.A1160>, <Cell 'Bills List'.A1161>, <Cell 'Bills List'.A1163>, <Cell 'Bills List'.A1164>, <Cell 'Bills List'.A1165>, <Cell 'Bills List'.A1167>, <Cell 'Bills List'.A1168>, <Cell 'Bills List'.A1169>, <Cell 'Bills List'.A1171>, <Cell 'Bills List'.A1173>, <Cell 'Bills List'.A1174>, <Cell 'Bills List'.A1178>, <Cell 'Bills List'.A1179>, <Cell 'Bills List'.A1183>, <Cell 'Bills List'.A1184>, <Cell 'Bills List'.A1188>, <Cell 'Bills List'.A1189>, <Cell 'Bills List'.A1190>, <Cell 'Bills List'.A1191>, <Cell 'Bills List'.A1193>, <Cell 'Bills List'.A1195>, <Cell 'Bills List'.A1196>, <Cell 'Bills List'.A1197>, <Cell 'Bills List'.A1198>, <Cell 'Bills List'.A1200>, <Cell 'Bills List'.A1202>, <Cell 'Bills List'.A1203>, <Cell 'Bills List'.A1204>, <Cell 'Bills List'.A1206>, <Cell 'Bills List'.A1207>, <Cell 'Bills List'.A1208>, <Cell 'Bills List'.A1210>, <Cell 'Bills List'.A1212>, <Cell 'Bills List'.A1214>, <Cell 'Bills List'.A1215>, <Cell 'Bills List'.A1219>, <Cell 'Bills List'.A1220>, <Cell 'Bills List'.A1226>, <Cell 'Bills List'.A1227>, <Cell 'Bills List'.A1231>, <Cell 'Bills List'.A1232>, <Cell 'Bills List'.A1233>, <Cell 'Bills List'.A1235>, <Cell 'Bills List'.A1237>, <Cell 'Bills List'.A1239>, <Cell 'Bills List'.A1240>, <Cell 'Bills List'.A1242>, <Cell 'Bills List'.A1243>, <Cell 'Bills List'.A1244>, <Cell 'Bills List'.A1246>, <Cell 'Bills List'.A1247>, <Cell 'Bills List'.A1248>, <Cell 'Bills List'.A1250>, <Cell 'Bills List'.A1252>, <Cell 'Bills List'.A1254>, <Cell 'Bills List'.A1258>, <Cell 'Bills List'.A1259>, <Cell 'Bills List'.A1263>, <Cell 'Bills List'.A1264>, <Cell 'Bills List'.A1268>, <Cell 'Bills List'.A1269>, <Cell 'Bills List'.A1270>, <Cell 'Bills List'.A1271>, <Cell 'Bills List'.A1273>, <Cell 'Bills List'.A1275>, <Cell 'Bills List'.A1277>, <Cell 'Bills List'.A1278>, <Cell 'Bills List'.A1280>, <Cell 'Bills List'.A1281>, <Cell 'Bills List'.A1282>, <Cell 'Bills List'.A1284>, <Cell 'Bills List'.A1285>, <Cell 'Bills List'.A1286>, <Cell 'Bills List'.A1288>, <Cell 'Bills List'.A1289>, <Cell 'Bills List'.A1290>, <Cell 'Bills List'.A1292>, <Cell 'Bills List'.A1294>, <Cell 'Bills List'.A1296>, <Cell 'Bills List'.A1300>, <Cell 'Bills List'.A1301>, <Cell 'Bills List'.A1305>, <Cell 'Bills List'.A1306>, <Cell 'Bills List'.A1310>, <Cell 'Bills List'.A1311>, <Cell 'Bills List'.A1312>, <Cell 'Bills List'.A1313>, <Cell 'Bills List'.A1315>, <Cell 'Bills List'.A1317>, <Cell 'Bills List'.A1320>, <Cell 'Bills List'.A1323>, <Cell 'Bills List'.A1324>, <Cell 'Bills List'.A1325>, <Cell 'Bills List'.A1327>, <Cell 'Bills List'.A1328>, <Cell 'Bills List'.A1329>, <Cell 'Bills List'.A1330>, <Cell 'Bills List'.A1331>, <Cell 'Bills List'.A1333>, <Cell 'Bills List'.A1335>, <Cell 'Bills List'.A1336>, <Cell 'Bills List'.A1339>, <Cell 'Bills List'.A1340>, <Cell 'Bills List'.A1344>, <Cell 'Bills List'.A1345>, <Cell 'Bills List'.A1350>, <Cell 'Bills List'.A1351>, <Cell 'Bills List'.A1352>, <Cell 'Bills List'.A1355>, <Cell 'Bills List'.A1356>, <Cell 'Bills List'.A1357>, <Cell 'Bills List'.A1359>, <Cell 'Bills List'.A1361>, <Cell 'Bills List'.A1363>, <Cell 'Bills List'.A1365>, <Cell 'Bills List'.A1367>, <Cell 'Bills List'.A1368>, <Cell 'Bills List'.A1369>, <Cell 'Bills List'.A1371>, <Cell 'Bills List'.A1372>, <Cell 'Bills List'.A1373>, <Cell 'Bills List'.A1375>, <Cell 'Bills List'.A1377>, <Cell 'Bills List'.A1378>, <Cell 'Bills List'.A1381>, <Cell 'Bills List'.A1382>, <Cell 'Bills List'.A1387>, <Cell 'Bills List'.A1388>, <Cell 'Bills List'.A1391>, <Cell 'Bills List'.A1392>, <Cell 'Bills List'.A1393>, <Cell 'Bills List'.A1394>, <Cell 'Bills List'.A1396>, <Cell 'Bills List'.A1398>, <Cell 'Bills List'.A1399>, <Cell 'Bills List'.A1401>, <Cell 'Bills List'.A1402>, <Cell 'Bills List'.A1403>, <Cell 'Bills List'.A1405>, <Cell 'Bills List'.A1406>, <Cell 'Bills List'.A1407>, <Cell 'Bills List'.A1409>, <Cell 'Bills List'.A1411>, <Cell 'Bills List'.A1412>, <Cell 'Bills List'.A1415>, <Cell 'Bills List'.A1416>, <Cell 'Bills List'.A1421>, <Cell 'Bills List'.A1422>, <Cell 'Bills List'.A1425>, <Cell 'Bills List'.A1426>, <Cell 'Bills List'.A1427>, <Cell 'Bills List'.A1428>, <Cell 'Bills List'.A1430>, <Cell 'Bills List'.A1432>, <Cell 'Bills List'.A1433>, <Cell 'Bills List'.A1434>, <Cell 'Bills List'.A1435>, <Cell 'Bills List'.A1436>, <Cell 'Bills List'.A1437>, <Cell 'Bills List'.A1438>, <Cell 'Bills List'.A1439>, <Cell 'Bills List'.A1441>, <Cell 'Bills List'.A1442>, <Cell 'Bills List'.A1443>, <Cell 'Bills List'.A1445>, <Cell 'Bills List'.A1446>, <Cell 'Bills List'.A1447>, <Cell 'Bills List'.A1449>, <Cell 'Bills List'.A1451>, <Cell 'Bills List'.A1452>, <Cell 'Bills List'.A1455>, <Cell 'Bills List'.A1456>, <Cell 'Bills List'.A1461>, <Cell 'Bills List'.A1462>, <Cell 'Bills List'.A1465>, <Cell 'Bills List'.A1466>, <Cell 'Bills List'.A1467>, <Cell 'Bills List'.A1468>, <Cell 'Bills List'.A1470>, <Cell 'Bills List'.A1472>, <Cell 'Bills List'.A1473>, <Cell 'Bills List'.A1474>, <Cell 'Bills List'.A1476>, <Cell 'Bills List'.A1477>, <Cell 'Bills List'.A1482>, <Cell 'Bills List'.A1484>, <Cell 'Bills List'.A1485>, <Cell 'Bills List'.A1486>, <Cell 'Bills List'.A1488>, <Cell 'Bills List'.A1489>, <Cell 'Bills List'.A1490>, <Cell 'Bills List'.A1492>, <Cell 'Bills List'.A1494>, <Cell 'Bills List'.A1495>, <Cell 'Bills List'.A1498>, <Cell 'Bills List'.A1499>, <Cell 'Bills List'.A1504>, <Cell 'Bills List'.A1505>, <Cell 'Bills List'.A1508>, <Cell 'Bills List'.A1509>, <Cell 'Bills List'.A1510>, <Cell 'Bills List'.A1511>, <Cell 'Bills List'.A1513>, <Cell 'Bills List'.A1515>, <Cell 'Bills List'.A1516>, <Cell 'Bills List'.A1517>, <Cell 'Bills List'.A1520>, <Cell 'Bills List'.A1522>, <Cell 'Bills List'.A1524>, <Cell 'Bills List'.A1525>, <Cell 'Bills List'.A1526>, <Cell 'Bills List'.A1528>, <Cell 'Bills List'.A1529>, <Cell 'Bills List'.A1530>, <Cell 'Bills List'.A1532>, <Cell 'Bills List'.A1534>, <Cell 'Bills List'.A1535>, <Cell 'Bills List'.A1538>, <Cell 'Bills List'.A1539>, <Cell 'Bills List'.A1544>, <Cell 'Bills List'.A1545>, <Cell 'Bills List'.A1548>, <Cell 'Bills List'.A1549>, <Cell 'Bills List'.A1550>, <Cell 'Bills List'.A1551>, <Cell 'Bills List'.A1553>, <Cell 'Bills List'.A1555>, <Cell 'Bills List'.A1556>, <Cell 'Bills List'.A1557>, <Cell 'Bills List'.A1560>, <Cell 'Bills List'.A1562>, <Cell 'Bills List'.A1563>, <Cell 'Bills List'.A1564>, <Cell 'Bills List'.A1566>, <Cell 'Bills List'.A1567>, <Cell 'Bills List'.A1568>, <Cell 'Bills List'.A1570>, <Cell 'Bills List'.A1572>, <Cell 'Bills List'.A1573>, <Cell 'Bills List'.A1577>, <Cell 'Bills List'.A1578>, <Cell 'Bills List'.A1583>, <Cell 'Bills List'.A1584>, <Cell 'Bills List'.A1587>, <Cell 'Bills List'.A1588>, <Cell 'Bills List'.A1589>, <Cell 'Bills List'.A1590>, <Cell 'Bills List'.A1592>, <Cell 'Bills List'.A1594>, <Cell 'Bills List'.A1595>, <Cell 'Bills List'.A1596>, <Cell 'Bills List'.A1597>, <Cell 'Bills List'.A1598>, <Cell 'Bills List'.A1599>, <Cell 'Bills List'.A1601>, <Cell 'Bills List'.A1608>, <Cell 'Bills List'.A1610>, <Cell 'Bills List'.A1611>, <Cell 'Bills List'.A1612>, <Cell 'Bills List'.A1614>, <Cell 'Bills List'.A1615>, <Cell 'Bills List'.A1616>, <Cell 'Bills List'.A1618>, <Cell 'Bills List'.A1620>, <Cell 'Bills List'.A1621>, <Cell 'Bills List'.A1625>, <Cell 'Bills List'.A1626>, <Cell 'Bills List'.A1631>, <Cell 'Bills List'.A1632>, <Cell 'Bills List'.A1635>, <Cell 'Bills List'.A1636>, <Cell 'Bills List'.A1637>, <Cell 'Bills List'.A1638>, <Cell 'Bills List'.A1640>, <Cell 'Bills List'.A1642>, <Cell 'Bills List'.A1643>, <Cell 'Bills List'.A1644>, <Cell 'Bills List'.A1647>, <Cell 'Bills List'.A1649>, <Cell 'Bills List'.A1650>, <Cell 'Bills List'.A1651>, <Cell 'Bills List'.A1653>, <Cell 'Bills List'.A1654>, <Cell 'Bills List'.A1655>, <Cell 'Bills List'.A1657>, <Cell 'Bills List'.A1659>, <Cell 'Bills List'.A1660>, <Cell 'Bills List'.A1664>, <Cell 'Bills List'.A1665>, <Cell 'Bills List'.A1670>, <Cell 'Bills List'.A1671>, <Cell 'Bills List'.A1674>, <Cell 'Bills List'.A1675>, <Cell 'Bills List'.A1676>, <Cell 'Bills List'.A1677>, <Cell 'Bills List'.A1679>, <Cell 'Bills List'.A1681>, <Cell 'Bills List'.A1682>, <Cell 'Bills List'.A1684>, <Cell 'Bills List'.A1686>, <Cell 'Bills List'.A1687>, <Cell 'Bills List'.A1688>, <Cell 'Bills List'.A1690>, <Cell 'Bills List'.A1691>, <Cell 'Bills List'.A1692>, <Cell 'Bills List'.A1694>, <Cell 'Bills List'.A1696>, <Cell 'Bills List'.A1697>, <Cell 'Bills List'.A1701>, <Cell 'Bills List'.A1702>, <Cell 'Bills List'.A1707>, <Cell 'Bills List'.A1708>, <Cell 'Bills List'.A1711>, <Cell 'Bills List'.A1712>, <Cell 'Bills List'.A1713>, <Cell 'Bills List'.A1714>, <Cell 'Bills List'.A1716>, <Cell 'Bills List'.A1718>, <Cell 'Bills List'.A1719>, <Cell 'Bills List'.A1720>, <Cell 'Bills List'.A1721>, <Cell 'Bills List'.A1722>, <Cell 'Bills List'.A1723>, <Cell 'Bills List'.A1725>, <Cell 'Bills List'.A1732>, <Cell 'Bills List'.A1734>, <Cell 'Bills List'.A1735>, <Cell 'Bills List'.A1736>, <Cell 'Bills List'.A1738>, <Cell 'Bills List'.A1739>, <Cell 'Bills List'.A1740>, <Cell 'Bills List'.A1742>, <Cell 'Bills List'.A1744>, <Cell 'Bills List'.A1745>, <Cell 'Bills List'.A1749>, <Cell 'Bills List'.A1750>, <Cell 'Bills List'.A1755>, <Cell 'Bills List'.A1756>, <Cell 'Bills List'.A1759>, <Cell 'Bills List'.A1760>, <Cell 'Bills List'.A1761>, <Cell 'Bills List'.A1762>, <Cell 'Bills List'.A1764>, <Cell 'Bills List'.A1766>, <Cell 'Bills List'.A1767>, <Cell 'Bills List'.A1770>, <Cell 'Bills List'.A1772>, <Cell 'Bills List'.A1773>, <Cell 'Bills List'.A1774>, <Cell 'Bills List'.A1776>, <Cell 'Bills List'.A1777>, <Cell 'Bills List'.A1778>, <Cell 'Bills List'.A1780>, <Cell 'Bills List'.A1782>, <Cell 'Bills List'.A1783>, <Cell 'Bills List'.A1787>, <Cell 'Bills List'.A1788>, <Cell 'Bills List'.A1793>, <Cell 'Bills List'.A1794>, <Cell 'Bills List'.A1797>, <Cell 'Bills List'.A1798>, <Cell 'Bills List'.A1799>, <Cell 'Bills List'.A1800>, <Cell 'Bills List'.A1802>, <Cell 'Bills List'.A1804>, <Cell 'Bills List'.A1805>, <Cell 'Bills List'.A1807>, <Cell 'Bills List'.A1808>, <Cell 'Bills List'.A1810>, <Cell 'Bills List'.A1811>, <Cell 'Bills List'.A1813>, <Cell 'Bills List'.A1815>, <Cell 'Bills List'.A1818>, <Cell 'Bills List'.A1819>, <Cell 'Bills List'.A1820>, <Cell 'Bills List'.A1822>, <Cell 'Bills List'.A1823>, <Cell 'Bills List'.A1824>, <Cell 'Bills List'.A1825>, <Cell 'Bills List'.A1826>, <Cell 'Bills List'.A1827>, <Cell 'Bills List'.A1829>, <Cell 'Bills List'.A1831>, <Cell 'Bills List'.A1832>, <Cell 'Bills List'.A1836>, <Cell 'Bills List'.A1837>, <Cell 'Bills List'.A1844>, <Cell 'Bills List'.A1845>, <Cell 'Bills List'.A1848>, <Cell 'Bills List'.A1849>, <Cell 'Bills List'.A1850>, <Cell 'Bills List'.A1852>, <Cell 'Bills List'.A1854>, <Cell 'Bills List'.A1856>, <Cell 'Bills List'.A1857>]\n"
     ]
    }
   ],
   "source": [
    "print(cells)"
   ]
  },
  {
   "cell_type": "code",
   "execution_count": 30,
   "metadata": {},
   "outputs": [
    {
     "data": {
      "text/plain": [
       "<Popen: returncode: None args: ['C:\\\\Program Files\\\\LibreOffice\\\\program\\\\so...>"
      ]
     },
     "execution_count": 30,
     "metadata": {},
     "output_type": "execute_result"
    }
   ],
   "source": [
    "import subprocess\n",
    "\n",
    "# Path to the LibreOffice executable. Adjust according to your system.\n",
    "libreoffice_path = \"C:\\\\Program Files\\\\LibreOffice\\\\program\\\\soffice.exe\"\n",
    "\n",
    "# Open LibreOffice\n",
    "# subprocess.Popen([libreoffice_path])\n",
    "\n",
    "# Open a document\n",
    "# subprocess.Popen([libreoffice_path, \"D:\\Projects\\test\\test.xlsm\"])\n",
    "\n",
    "# Open a document in read-only mode\n",
    "# subprocess.Popen([libreoffice_path, \"D:\\Downloads\\YJV Invoice_New.xlsm\"])\n",
    "subprocess.Popen([libreoffice_path, \"D:\\Downloads\\YJV Invoice_New.xlsm\"])\n",
    "\n",
    "# import time\n",
    "\n",
    "# time.sleep(3)\n",
    "\n",
    "# import pyautogui\n",
    "\n",
    "# # pyautogui.\n",
    "\n",
    "# # Simulate pressing Ctrl + P\n",
    "# pyautogui.hotkey('ctrl', 'p')\n",
    "\n",
    "# time.sleep(2)\n",
    "\n",
    "# # Simulate pressing Enter\n",
    "# pyautogui.press('enter')"
   ]
  },
  {
   "cell_type": "markdown",
   "metadata": {},
   "source": [
    "### Value change"
   ]
  },
  {
   "cell_type": "code",
   "execution_count": 7,
   "metadata": {},
   "outputs": [],
   "source": [
    "import win32com.client\n",
    "\n",
    "# Create an instance of the Excel application\n",
    "excel = win32com.client.Dispatch(\"Excel.Application\")\n",
    "\n",
    "# Optional: make Excel visible\n",
    "excel.Visible = True\n",
    "\n",
    "# Open the Excel file\n",
    "file_path = r'D:\\test\\test.xlsm'\n",
    "workbook = excel.Workbooks.Open(file_path)\n",
    "\n",
    "# Access a specific sheet by name\n",
    "sheet_name = 'YJV'\n",
    "sheet = workbook.Sheets(sheet_name)\n",
    "\n",
    "# Modify cell values\n",
    "# Example: Set the value of cell A1\n",
    "sheet.Cells(11, 6).Value = '4212'\n",
    "\n",
    "# Example: Set the value of cell B2\n",
    "# sheet.Cells(2, 2).Value = 123\n",
    "\n",
    "# Example: Set the value of a range of cells\n",
    "# sheet.Range('C1:C3').Value = [1, 2, 3]\n",
    "\n",
    "# Optional: Save the workbook if changes were made\n",
    "workbook.Save()\n",
    "\n",
    "# Optional: Close the workbook\n",
    "# workbook.Close()\n",
    "\n",
    "# Optional: Quit the Excel application\n",
    "excel.Quit()\n"
   ]
  },
  {
   "cell_type": "markdown",
   "metadata": {},
   "source": [
    "### Run and print"
   ]
  },
  {
   "cell_type": "code",
   "execution_count": 1,
   "metadata": {},
   "outputs": [
    {
     "ename": "com_error",
     "evalue": "(-2147352567, 'Exception occurred.', (0, 'Microsoft Excel', \"Sorry, we couldn't find D:\\\\test\\\\test.xlsm. Is it possible it was moved, renamed or deleted?\", 'xlmain11.chm', 0, -2146827284), None)",
     "output_type": "error",
     "traceback": [
      "\u001b[1;31m---------------------------------------------------------------------------\u001b[0m",
      "\u001b[1;31mcom_error\u001b[0m                                 Traceback (most recent call last)",
      "Cell \u001b[1;32mIn[1], line 13\u001b[0m\n\u001b[0;32m     11\u001b[0m \u001b[38;5;66;03m# Open the Excel file\u001b[39;00m\n\u001b[0;32m     12\u001b[0m file_path \u001b[38;5;241m=\u001b[39m \u001b[38;5;124mr\u001b[39m\u001b[38;5;124m'\u001b[39m\u001b[38;5;124mD:\u001b[39m\u001b[38;5;124m\\\u001b[39m\u001b[38;5;124mtest\u001b[39m\u001b[38;5;124m\\\u001b[39m\u001b[38;5;124mtest.xlsm\u001b[39m\u001b[38;5;124m'\u001b[39m\n\u001b[1;32m---> 13\u001b[0m workbook \u001b[38;5;241m=\u001b[39m \u001b[43mexcel\u001b[49m\u001b[38;5;241;43m.\u001b[39;49m\u001b[43mWorkbooks\u001b[49m\u001b[38;5;241;43m.\u001b[39;49m\u001b[43mOpen\u001b[49m\u001b[43m(\u001b[49m\u001b[43mfile_path\u001b[49m\u001b[43m)\u001b[49m\n\u001b[0;32m     15\u001b[0m \u001b[38;5;66;03m# Access and activate a specific sheet by name\u001b[39;00m\n\u001b[0;32m     16\u001b[0m sheet_name \u001b[38;5;241m=\u001b[39m \u001b[38;5;124m'\u001b[39m\u001b[38;5;124mYJV\u001b[39m\u001b[38;5;124m'\u001b[39m\n",
      "File \u001b[1;32m<COMObject <unknown>>:5\u001b[0m, in \u001b[0;36mOpen\u001b[1;34m(self, Filename, UpdateLinks, ReadOnly, Format, Password, WriteResPassword, IgnoreReadOnlyRecommended, Origin, Delimiter, Editable, Notify, Converter, AddToMru, Local, CorruptLoad)\u001b[0m\n",
      "\u001b[1;31mcom_error\u001b[0m: (-2147352567, 'Exception occurred.', (0, 'Microsoft Excel', \"Sorry, we couldn't find D:\\\\test\\\\test.xlsm. Is it possible it was moved, renamed or deleted?\", 'xlmain11.chm', 0, -2146827284), None)"
     ]
    }
   ],
   "source": [
    "import pyautogui\n",
    "import win32com.client\n",
    "import time\n",
    "\n",
    "# Create an instance of the Excel application\n",
    "excel = win32com.client.Dispatch(\"Excel.Application\")\n",
    "\n",
    "# Optional: make Excel visible\n",
    "excel.Visible = True\n",
    "\n",
    "# Open the Excel file\n",
    "file_path = r'D:\\test\\test.xlsm'\n",
    "workbook = excel.Workbooks.Open(file_path)\n",
    "\n",
    "# Access and activate a specific sheet by name\n",
    "sheet_name = 'YJV'\n",
    "sheet = workbook.Sheets(sheet_name)\n",
    "sheet.Activate()\n",
    "\n",
    "# Bring the Excel application to the active screen\n",
    "# pyautogui.getWindowsWithTitle('Microsoft Excel')[0].activate()\n",
    "# sheet.Activate()\n",
    "\n",
    "time.sleep(2)\n",
    "\n",
    "# Simulate pressing Ctrl + P\n",
    "pyautogui.hotkey('ctrl', 'p')\n",
    "\n",
    "time.sleep(2)\n",
    "\n",
    "# Simulate pressing Enter\n",
    "pyautogui.press('enter')\n",
    "\n",
    "time.sleep(2)\n",
    "\n",
    "# Input file name using pyautogui\n",
    "file_name = \"test\"\n",
    "pyautogui.typewrite(file_name)\n",
    "pyautogui.press('enter')\n",
    "\n",
    "time.sleep(2)\n",
    "\n",
    "# Close the Excel application\n",
    "excel.Quit()"
   ]
  },
  {
   "cell_type": "markdown",
   "metadata": {},
   "source": [
    "### aggregation"
   ]
  },
  {
   "cell_type": "code",
   "execution_count": 4,
   "metadata": {},
   "outputs": [
    {
     "name": "stdout",
     "output_type": "stream",
     "text": [
      "[4141, 4142, 4143, 4144, 4145, 4146, 4147, 4148, 4149, 4150, 4151, 4152, 4153, 4154, 4155, 4156, 4157, 4158, 4159, 4160, 4161, 4162, 4163, 4164, 4165, 4166, 4167, 4168, 4169, 4170, 4171, 4172, 4173, 4174, 4175, 4176, 4177, 4178, 4179, 4180, 4181, 4182, 4183, 4184, 4185, 4186, 4187, 4188, 4189, 4190, 4191, 4192, 4193, 4194, 4195, 4196, 4197, 4198, 4199, 4200, 4201, 4202, 4203, 4204, 4205, 4206, 4207, 4208, 4209, 4210, 4211, 4212]\n",
      "['ANUPAM HERITAGE LAB (INDIA) LTD', 'Abil Chempharma Pvt Ltd', 'CASBY LOGISTICS AND SOLUTIONS PRIVATE LIMITED', 'Casby Logistics Pvt Ltd', 'COMPOSITES SOLUTION', 'Diamond Creations', 'EAGLE FREIGHT FORWARDERS PVT.LTD.', 'GUJARAT COLOURS AND COATINGS PRIVATE LIMITED', 'Jakari Shipping Pvt Ltd', 'JUSHI INDIA FIBERGLASS PRIVATE LIMITED', 'KAIKOBAD BYRAMJEE AND SONS AGENCY PVT.LTD.', 'MAGNUS COMPOSITES SYNERGIES PVT LTD', 'MAPE ADVISORY GROUP PVT LTD', 'PURI CRAWFORD INSURANCE SURVEYORS & LOSS ASSESSORS INDIA PVT. LTD.', 'RETRO CLOTHING PVT. LTD.', 'Sai Om Logistics', 'Sang Infotech Pvt Ltd', 'SEA WAIF', 'Shree Diamond', 'SUN WING CARRIERS', 'WEST COAST MARINE YACHT SERVICES PVT LTD', 'HEENA CARGO MOVERS PVT LTD', 'Abil Chempharma Pvt Ltd', 'CASBY LOGISTICS AND SOLUTIONS PRIVATE LIMITED', 'Casby Logistics Pvt Ltd', 'COMPOSITES SOLUTION', 'Diamond Creations', 'EAGLE FREIGHT FORWARDERS PVT.LTD.', 'GUJARAT COLOURS AND COATINGS PRIVATE LIMITED', 'Jakari Shipping Pvt Ltd', 'JUSHI INDIA FIBERGLASS PRIVATE LIMITED', 'KAIKOBAD BYRAMJEE AND SONS AGENCY PVT.LTD.', 'MAGNUS COMPOSITES SYNERGIES PVT LTD', 'MAPE ADVISORY GROUP PVT LTD', 'PURI CRAWFORD INSURANCE SURVEYORS & LOSS ASSESSORS INDIA PVT. LTD.', 'RETRO CLOTHING PVT. LTD.', 'Sai Om Logistics', 'Sang Infotech Pvt Ltd', 'SEA WAIF', 'Shree Diamond', 'SUN WING CARRIERS', 'WEST COAST MARINE YACHT SERVICES PVT LTD', 'HEENA CARGO MOVERS PVT LTD', 'Manoj Ceramic Limited', 'Graphic Innovators India Pvt Ltd', 'G Loucatos & Co.', 'PROFESSIONAL CONNEXIONS CONSULTING PVT. LTD.', 'Abil Chempharma Pvt Ltd', 'ANUPAM HERITAGE LAB (INDIA) LTD', 'CASBY LOGISTICS AND SOLUTIONS PRIVATE LIMITED', 'Casby Logistics Pvt Ltd', 'COMPOSITES SOLUTION', 'Diamond Creations Private Limited', 'EAGLE FREIGHT FORWARDERS PVT.LTD.', 'GLANBIA INDIA PRIVATE LIMITED', 'GLANBIA PERFORMANCE NUTRITION (INDIA) PRIVATE LIMITED', 'GUJARAT COLOURS AND COATINGS PRIVATE LIMITED', 'HEENA CARGO MOVERS PVT LTD', 'Jakari Shipping Pvt Ltd', 'JUSHI INDIA FIBERGLASS PRIVATE LIMITED', 'KAIKOBAD BYRAMJEE AND SONS AGENCY PVT.LTD.', 'MAGNUS COMPOSITES SYNERGIES PVT LTD', 'MAPE ADVISORY GROUP PVT LTD', 'PURI CRAWFORD INSURANCE SURVEYORS & LOSS ASSESSORS INDIA PVT. LTD.', 'RETRO CLOTHING PVT. LTD.', 'Sai Om Logistics', 'Sang Infotech Pvt Ltd', 'SEA WAIF', 'Shree Diamond', 'SUN WING CARRIERS', 'WEST COAST MARINE YACHT SERVICES PVT LTD', 'GRROWWIDE BUSINESS ADVISORS PVT LTD']\n"
     ]
    }
   ],
   "source": [
    "import win32com.client\n",
    "\n",
    "# Path to the uploaded Excel file\n",
    "file_path = r'D:\\Projects\\test\\test.xlsm'\n",
    "\n",
    "# Create an instance of the Excel application\n",
    "excel = win32com.client.Dispatch(\"Excel.Application\")\n",
    "\n",
    "# Optional: make Excel visible (for debugging purposes)\n",
    "excel.Visible = False\n",
    "\n",
    "# Open the Excel file\n",
    "workbook = excel.Workbooks.Open(file_path)\n",
    "\n",
    "# Access the 'Bills List' sheet\n",
    "sheet = workbook.Sheets('Bills List')\n",
    "\n",
    "# Initialize an empty list to store client names\n",
    "bill_no = []\n",
    "company_name = []\n",
    "month_column = []\n",
    "\n",
    "# Define the column indices (assuming 'Name' is in column 1 and 'Client' is in column 2)\n",
    "name_column = 1\n",
    "bill_column = 2\n",
    "company_column = 3\n",
    "monthly_column = 4\n",
    "\n",
    "# Loop through the rows in the sheet (assuming the data starts from row 2)\n",
    "row = 1724\n",
    "while True:\n",
    "    try:\n",
    "        # Read the value of the 'Name' column\n",
    "        name_value = sheet.Cells(row, name_column).Value\n",
    "        \n",
    "        # Break the loop if we have reached the end of the data\n",
    "        if name_value is None:\n",
    "            break\n",
    "        \n",
    "        # Check if the 'Name' column contains 'YJV'\n",
    "        if 'YJV' in name_value:\n",
    "            # Read the value of the 'Client' column\n",
    "            client_bill = sheet.Cells(row, bill_column).Value\n",
    "            client_name = sheet.Cells(row, company_column).Value\n",
    "            client_month = sheet.Cells(row, monthly_column).Value\n",
    "            \n",
    "            # Check if the client name is a number\n",
    "            if isinstance(client_bill, (int, float)):\n",
    "                # Append the client name to the list\n",
    "                bill_no.append(client_bill)\n",
    "                company_name.append(client_name)\n",
    "                month_column.append(client_month)\n",
    "\n",
    "        \n",
    "        # Move to the next row\n",
    "        row += 1\n",
    "    \n",
    "    except Exception as e:\n",
    "        # Skip the row if an error occurs (e.g., the value is not a number)\n",
    "        row += 1\n",
    "        continue\n",
    "\n",
    "# Optional: Close the workbook and quit the Excel application\n",
    "workbook.Close(False)\n",
    "excel.Quit()\n",
    "\n",
    "bill_no = [int(num) for num in bill_no] \n",
    "# Print the list of client names\n",
    "print(bill_no)\n",
    "print(company_name)\n",
    "# print(month_column)\n"
   ]
  },
  {
   "cell_type": "markdown",
   "metadata": {},
   "source": [
    "---"
   ]
  },
  {
   "cell_type": "markdown",
   "metadata": {},
   "source": [
    "### Lmao"
   ]
  },
  {
   "cell_type": "code",
   "execution_count": 13,
   "metadata": {},
   "outputs": [],
   "source": [
    "import pandas as pd"
   ]
  },
  {
   "cell_type": "code",
   "execution_count": 76,
   "metadata": {},
   "outputs": [
    {
     "data": {
      "text/html": [
       "<div>\n",
       "<style scoped>\n",
       "    .dataframe tbody tr th:only-of-type {\n",
       "        vertical-align: middle;\n",
       "    }\n",
       "\n",
       "    .dataframe tbody tr th {\n",
       "        vertical-align: top;\n",
       "    }\n",
       "\n",
       "    .dataframe thead th {\n",
       "        text-align: right;\n",
       "    }\n",
       "</style>\n",
       "<table border=\"1\" class=\"dataframe\">\n",
       "  <thead>\n",
       "    <tr style=\"text-align: right;\">\n",
       "      <th></th>\n",
       "      <th>Name</th>\n",
       "      <th>Bill No</th>\n",
       "      <th>Name Of Client</th>\n",
       "      <th>Date</th>\n",
       "      <th>Amount</th>\n",
       "      <th>PIN</th>\n",
       "      <th>Month Of Service</th>\n",
       "      <th>Email On</th>\n",
       "      <th>Paid On</th>\n",
       "      <th>Unnamed: 9</th>\n",
       "      <th>Unnamed: 10</th>\n",
       "      <th>Unnamed: 11</th>\n",
       "      <th>Unnamed: 12</th>\n",
       "    </tr>\n",
       "  </thead>\n",
       "  <tbody>\n",
       "    <tr>\n",
       "      <th>0</th>\n",
       "      <td>JRV</td>\n",
       "      <td>1401</td>\n",
       "      <td>SPECTRA INTERNATIONAL LIMITED</td>\n",
       "      <td>2020-03-31 00:00:00</td>\n",
       "      <td>3000</td>\n",
       "      <td>NaN</td>\n",
       "      <td>March 2020</td>\n",
       "      <td>2020-06-08 00:00:00</td>\n",
       "      <td>NaN</td>\n",
       "      <td>NaN</td>\n",
       "      <td>NaT</td>\n",
       "      <td>NaN</td>\n",
       "      <td>NaN</td>\n",
       "    </tr>\n",
       "    <tr>\n",
       "      <th>1</th>\n",
       "      <td>JRV</td>\n",
       "      <td>1402</td>\n",
       "      <td>SANZI GROUP IMP &amp; EXP</td>\n",
       "      <td>2020-03-31 00:00:00</td>\n",
       "      <td>3000</td>\n",
       "      <td>NaN</td>\n",
       "      <td>March 2020</td>\n",
       "      <td>2020-06-08 00:00:00</td>\n",
       "      <td>NaN</td>\n",
       "      <td>NaN</td>\n",
       "      <td>NaT</td>\n",
       "      <td>NaN</td>\n",
       "      <td>NaN</td>\n",
       "    </tr>\n",
       "    <tr>\n",
       "      <th>2</th>\n",
       "      <td>JRV</td>\n",
       "      <td>1403</td>\n",
       "      <td>NICHROME</td>\n",
       "      <td>2020-03-31 00:00:00</td>\n",
       "      <td>3300</td>\n",
       "      <td>NaN</td>\n",
       "      <td>Jan to Mar 2020</td>\n",
       "      <td>2020-06-08 00:00:00</td>\n",
       "      <td>NaN</td>\n",
       "      <td>NaN</td>\n",
       "      <td>NaT</td>\n",
       "      <td>NaN</td>\n",
       "      <td>NaN</td>\n",
       "    </tr>\n",
       "    <tr>\n",
       "      <th>3</th>\n",
       "      <td>JRV</td>\n",
       "      <td>1404</td>\n",
       "      <td>SAI COLLECTION</td>\n",
       "      <td>2020-03-31 00:00:00</td>\n",
       "      <td>1500</td>\n",
       "      <td>NaN</td>\n",
       "      <td>March 2020</td>\n",
       "      <td>NaN</td>\n",
       "      <td>NaN</td>\n",
       "      <td>NaN</td>\n",
       "      <td>NaT</td>\n",
       "      <td>NaN</td>\n",
       "      <td>NaN</td>\n",
       "    </tr>\n",
       "    <tr>\n",
       "      <th>4</th>\n",
       "      <td>JRV</td>\n",
       "      <td>1405</td>\n",
       "      <td>NEW SAI COLLECTION</td>\n",
       "      <td>2020-03-31 00:00:00</td>\n",
       "      <td>1500</td>\n",
       "      <td>NaN</td>\n",
       "      <td>March 2020</td>\n",
       "      <td>NaN</td>\n",
       "      <td>NaN</td>\n",
       "      <td>NaN</td>\n",
       "      <td>NaT</td>\n",
       "      <td>NaN</td>\n",
       "      <td>NaN</td>\n",
       "    </tr>\n",
       "  </tbody>\n",
       "</table>\n",
       "</div>"
      ],
      "text/plain": [
       "  Name Bill No                 Name Of Client                 Date Amount  \\\n",
       "0  JRV    1401  SPECTRA INTERNATIONAL LIMITED  2020-03-31 00:00:00   3000   \n",
       "1  JRV    1402          SANZI GROUP IMP & EXP  2020-03-31 00:00:00   3000   \n",
       "2  JRV    1403                       NICHROME  2020-03-31 00:00:00   3300   \n",
       "3  JRV    1404                 SAI COLLECTION  2020-03-31 00:00:00   1500   \n",
       "4  JRV    1405             NEW SAI COLLECTION  2020-03-31 00:00:00   1500   \n",
       "\n",
       "   PIN Month Of Service             Email On Paid On Unnamed: 9 Unnamed: 10  \\\n",
       "0  NaN       March 2020  2020-06-08 00:00:00     NaN        NaN         NaT   \n",
       "1  NaN       March 2020  2020-06-08 00:00:00     NaN        NaN         NaT   \n",
       "2  NaN  Jan to Mar 2020  2020-06-08 00:00:00     NaN        NaN         NaT   \n",
       "3  NaN       March 2020                  NaN     NaN        NaN         NaT   \n",
       "4  NaN       March 2020                  NaN     NaN        NaN         NaT   \n",
       "\n",
       "  Unnamed: 11 Unnamed: 12  \n",
       "0         NaN         NaN  \n",
       "1         NaN         NaN  \n",
       "2         NaN         NaN  \n",
       "3         NaN         NaN  \n",
       "4         NaN         NaN  "
      ]
     },
     "execution_count": 76,
     "metadata": {},
     "output_type": "execute_result"
    }
   ],
   "source": [
    "df = pd.read_excel('test.xlsm', sheet_name='Bills List')\n",
    "df.head()"
   ]
  },
  {
   "cell_type": "code",
   "execution_count": 47,
   "metadata": {},
   "outputs": [
    {
     "name": "stdout",
     "output_type": "stream",
     "text": [
      "<class 'pandas.core.frame.DataFrame'>\n",
      "RangeIndex: 1857 entries, 0 to 1856\n",
      "Data columns (total 13 columns):\n",
      " #   Column            Non-Null Count  Dtype         \n",
      "---  ------            --------------  -----         \n",
      " 0   Name              1857 non-null   object        \n",
      " 1   Bill No           1857 non-null   object        \n",
      " 2   Name Of Client    1857 non-null   object        \n",
      " 3   Date              1855 non-null   object        \n",
      " 4   Amount            1857 non-null   object        \n",
      " 5   PIN               1792 non-null   object        \n",
      " 6   Month Of Service  1854 non-null   object        \n",
      " 7   Email On          1801 non-null   object        \n",
      " 8   Paid On           152 non-null    object        \n",
      " 9   Unnamed: 9        101 non-null    object        \n",
      " 10  Unnamed: 10       4 non-null      datetime64[ns]\n",
      " 11  Unnamed: 11       5 non-null      object        \n",
      " 12  Unnamed: 12       6 non-null      object        \n",
      "dtypes: datetime64[ns](1), object(12)\n",
      "memory usage: 188.7+ KB\n"
     ]
    }
   ],
   "source": [
    "df.info()"
   ]
  },
  {
   "cell_type": "code",
   "execution_count": 32,
   "metadata": {},
   "outputs": [],
   "source": [
    "df.drop('Email On', axis=1, inplace=True)"
   ]
  },
  {
   "cell_type": "code",
   "execution_count": 77,
   "metadata": {},
   "outputs": [
    {
     "name": "stdout",
     "output_type": "stream",
     "text": [
      "Error at position 73: Unknown datetime string format, unable to parse: X, at position 0\n",
      "X\n",
      "Error at position 1078: Unable to parse datetime string: -, at position 0\n",
      "-\n"
     ]
    }
   ],
   "source": [
    "for date in df['Date']:\n",
    "    try:\n",
    "        pd.to_datetime(date)\n",
    "    except ValueError as e:\n",
    "        print(f\"Error at position {df['Date'].tolist().index(date)}: {e}\")\n",
    "        print(date)"
   ]
  },
  {
   "cell_type": "code",
   "execution_count": 78,
   "metadata": {},
   "outputs": [],
   "source": [
    "df['Date'] = pd.to_datetime(df['Date'], errors='coerce')"
   ]
  },
  {
   "cell_type": "code",
   "execution_count": 79,
   "metadata": {},
   "outputs": [],
   "source": [
    "import numpy as np\n",
    "import re\n",
    "from datetime import datetime\n",
    "\n",
    "def convert_date_to_month(date_str):\n",
    "    # If the input is NaN, return NaN\n",
    "    if pd.isnull(date_str):\n",
    "        return np.nan\n",
    "\n",
    "    # Define the regex pattern for the date format \"DD-MM-YYYY\"\n",
    "    pattern = r'(\\d{2})-(\\d{2})-(\\d{4})'\n",
    "    \n",
    "    # Match the pattern with the input date string\n",
    "    match = re.match(pattern, date_str)\n",
    "    \n",
    "    if match:\n",
    "        # Extract the day, month, and year from the matched groups\n",
    "        day, month, year = match.groups()\n",
    "        \n",
    "        # Create a datetime object from the extracted values\n",
    "        date_obj = datetime.strptime(f'{day}-{month}-{year}', '%d-%m-%Y')\n",
    "        \n",
    "        # Format the datetime object to \"Month YYYY\"\n",
    "        formatted_date = date_obj.strftime('%B %Y')\n",
    "        \n",
    "        return formatted_date\n",
    "    else:\n",
    "        raise ValueError(\"Invalid date format. Please use 'DD-MM-YYYY' format.\")\n",
    "\n",
    "# Example usage\n",
    "df['Date'] = pd.to_datetime(df['Date'], errors='coerce')\n",
    "df['Date'] = df['Date'].dt.strftime('%d-%m-%Y')\n",
    "df['Month Range'] = df['Date'].apply(convert_date_to_month)"
   ]
  },
  {
   "cell_type": "code",
   "execution_count": 85,
   "metadata": {},
   "outputs": [],
   "source": [
    "# df.drop('PIN', axis=1, inplace=True)\n",
    "# df.drop('Paid On', axis=1, inplace=True)\n",
    "# df.drop('Email On', axis=1, inplace=True)\n",
    "df.drop('Unnamed: 9', axis=1, inplace=True)\n",
    "df.drop('Unnamed: 10', axis=1, inplace=True)\n",
    "df.drop('Unnamed: 11', axis=1, inplace=True)\n",
    "df.drop('Unnamed: 12', axis=1, inplace=True)"
   ]
  },
  {
   "cell_type": "code",
   "execution_count": 86,
   "metadata": {},
   "outputs": [
    {
     "data": {
      "text/html": [
       "<div>\n",
       "<style scoped>\n",
       "    .dataframe tbody tr th:only-of-type {\n",
       "        vertical-align: middle;\n",
       "    }\n",
       "\n",
       "    .dataframe tbody tr th {\n",
       "        vertical-align: top;\n",
       "    }\n",
       "\n",
       "    .dataframe thead th {\n",
       "        text-align: right;\n",
       "    }\n",
       "</style>\n",
       "<table border=\"1\" class=\"dataframe\">\n",
       "  <thead>\n",
       "    <tr style=\"text-align: right;\">\n",
       "      <th></th>\n",
       "      <th>Name</th>\n",
       "      <th>Bill No</th>\n",
       "      <th>Name Of Client</th>\n",
       "      <th>Date</th>\n",
       "      <th>Amount</th>\n",
       "      <th>PIN</th>\n",
       "      <th>Month Of Service</th>\n",
       "      <th>Email On</th>\n",
       "      <th>Paid On</th>\n",
       "      <th>Month Range</th>\n",
       "    </tr>\n",
       "  </thead>\n",
       "  <tbody>\n",
       "    <tr>\n",
       "      <th>0</th>\n",
       "      <td>JRV</td>\n",
       "      <td>1401</td>\n",
       "      <td>SPECTRA INTERNATIONAL LIMITED</td>\n",
       "      <td>31-03-2020</td>\n",
       "      <td>3000</td>\n",
       "      <td>NaN</td>\n",
       "      <td>March 2020</td>\n",
       "      <td>2020-06-08 00:00:00</td>\n",
       "      <td>NaN</td>\n",
       "      <td>March 2020</td>\n",
       "    </tr>\n",
       "    <tr>\n",
       "      <th>1</th>\n",
       "      <td>JRV</td>\n",
       "      <td>1402</td>\n",
       "      <td>SANZI GROUP IMP &amp; EXP</td>\n",
       "      <td>31-03-2020</td>\n",
       "      <td>3000</td>\n",
       "      <td>NaN</td>\n",
       "      <td>March 2020</td>\n",
       "      <td>2020-06-08 00:00:00</td>\n",
       "      <td>NaN</td>\n",
       "      <td>March 2020</td>\n",
       "    </tr>\n",
       "    <tr>\n",
       "      <th>2</th>\n",
       "      <td>JRV</td>\n",
       "      <td>1403</td>\n",
       "      <td>NICHROME</td>\n",
       "      <td>31-03-2020</td>\n",
       "      <td>3300</td>\n",
       "      <td>NaN</td>\n",
       "      <td>Jan to Mar 2020</td>\n",
       "      <td>2020-06-08 00:00:00</td>\n",
       "      <td>NaN</td>\n",
       "      <td>March 2020</td>\n",
       "    </tr>\n",
       "    <tr>\n",
       "      <th>3</th>\n",
       "      <td>JRV</td>\n",
       "      <td>1404</td>\n",
       "      <td>SAI COLLECTION</td>\n",
       "      <td>31-03-2020</td>\n",
       "      <td>1500</td>\n",
       "      <td>NaN</td>\n",
       "      <td>March 2020</td>\n",
       "      <td>NaN</td>\n",
       "      <td>NaN</td>\n",
       "      <td>March 2020</td>\n",
       "    </tr>\n",
       "    <tr>\n",
       "      <th>4</th>\n",
       "      <td>JRV</td>\n",
       "      <td>1405</td>\n",
       "      <td>NEW SAI COLLECTION</td>\n",
       "      <td>31-03-2020</td>\n",
       "      <td>1500</td>\n",
       "      <td>NaN</td>\n",
       "      <td>March 2020</td>\n",
       "      <td>NaN</td>\n",
       "      <td>NaN</td>\n",
       "      <td>March 2020</td>\n",
       "    </tr>\n",
       "  </tbody>\n",
       "</table>\n",
       "</div>"
      ],
      "text/plain": [
       "  Name Bill No                 Name Of Client        Date Amount  PIN  \\\n",
       "0  JRV    1401  SPECTRA INTERNATIONAL LIMITED  31-03-2020   3000  NaN   \n",
       "1  JRV    1402          SANZI GROUP IMP & EXP  31-03-2020   3000  NaN   \n",
       "2  JRV    1403                       NICHROME  31-03-2020   3300  NaN   \n",
       "3  JRV    1404                 SAI COLLECTION  31-03-2020   1500  NaN   \n",
       "4  JRV    1405             NEW SAI COLLECTION  31-03-2020   1500  NaN   \n",
       "\n",
       "  Month Of Service             Email On Paid On Month Range  \n",
       "0       March 2020  2020-06-08 00:00:00     NaN  March 2020  \n",
       "1       March 2020  2020-06-08 00:00:00     NaN  March 2020  \n",
       "2  Jan to Mar 2020  2020-06-08 00:00:00     NaN  March 2020  \n",
       "3       March 2020                  NaN     NaN  March 2020  \n",
       "4       March 2020                  NaN     NaN  March 2020  "
      ]
     },
     "execution_count": 86,
     "metadata": {},
     "output_type": "execute_result"
    }
   ],
   "source": [
    "df.head()"
   ]
  },
  {
   "cell_type": "code",
   "execution_count": 89,
   "metadata": {},
   "outputs": [],
   "source": [
    "list1 = df['Month Range'].tolist()"
   ]
  },
  {
   "cell_type": "code",
   "execution_count": 90,
   "metadata": {},
   "outputs": [
    {
     "name": "stdout",
     "output_type": "stream",
     "text": [
      "['March 2020', 'March 2020', 'March 2020', 'March 2020', 'March 2020', 'March 2020', 'May 2020', 'June 2020', 'June 2020', 'June 2020', 'June 2020', 'June 2020', 'June 2020', 'June 2020', 'June 2020', 'June 2020', 'July 2020', 'July 2020', 'July 2020', 'July 2020', 'July 2020', 'July 2020', 'July 2020', 'July 2020', 'August 2020', 'August 2020', 'August 2020', 'August 2020', 'August 2020', 'August 2020', 'August 2020', 'September 2020', 'September 2020', 'September 2020', 'September 2020', 'September 2020', 'September 2020', 'September 2020', 'September 2020', 'September 2020', 'September 2020', 'September 2020', 'September 2020', 'September 2020', 'September 2020', 'September 2020', 'September 2020', 'September 2020', 'September 2020', 'October 2020', 'October 2020', 'October 2020', 'October 2020', 'October 2020', 'October 2020', 'October 2020', 'October 2020', 'October 2020', 'October 2020', 'October 2020', 'October 2020', 'November 2020', 'November 2020', 'November 2020', 'November 2020', 'November 2020', 'November 2020', 'November 2020', 'November 2020', 'November 2020', 'November 2020', 'November 2020', 'November 2020', nan, 'March 2020', 'March 2020', 'March 2020', 'March 2020', 'March 2020', 'March 2020', 'March 2020', 'March 2020', 'March 2020', 'March 2020', 'March 2020', 'March 2020', 'March 2020', 'March 2020', 'March 2020', 'March 2020', 'March 2020', 'March 2020', 'March 2020', 'March 2020', 'March 2020', 'May 2020', 'May 2020', 'May 2020', 'May 2020', 'May 2020', 'May 2020', 'May 2020', 'June 2020', 'June 2020', 'June 2020', 'June 2020', 'June 2020', 'June 2020', 'June 2020', 'June 2020', 'June 2020', 'June 2020', 'June 2020', 'June 2020', 'June 2020', 'June 2020', 'June 2020', 'June 2020', 'June 2020', 'June 2020', 'June 2020', 'June 2020', 'June 2020', 'June 2020', 'June 2020', 'June 2020', 'June 2020', 'June 2020', 'June 2020', 'June 2020', 'June 2020', 'June 2020', 'June 2020', 'June 2020', 'July 2020', 'July 2020', 'July 2020', 'July 2020', 'July 2020', 'July 2020', 'July 2020', 'July 2020', 'July 2020', 'July 2020', 'July 2020', 'July 2020', 'July 2020', 'July 2020', 'July 2020', 'July 2020', 'July 2020', 'July 2020', 'July 2020', 'August 2020', 'August 2020', 'August 2020', 'August 2020', 'August 2020', 'August 2020', 'August 2020', 'August 2020', 'August 2020', 'August 2020', 'August 2020', 'August 2020', 'August 2020', 'August 2020', 'August 2020', 'August 2020', 'August 2020', 'August 2020', 'August 2020', 'August 2020', 'August 2020', 'August 2020', 'August 2020', 'August 2020', 'August 2020', 'August 2020', 'August 2020', 'August 2020', 'September 2020', 'September 2020', 'September 2020', 'September 2020', 'September 2020', 'September 2020', 'September 2020', 'September 2020', 'September 2020', 'September 2020', 'September 2020', 'September 2020', 'September 2020', 'September 2020', 'September 2020', 'September 2020', 'September 2020', 'September 2020', 'September 2020', 'September 2020', 'September 2020', 'September 2020', 'September 2020', 'September 2020', 'September 2020', 'September 2020', 'September 2020', 'September 2020', 'September 2020', 'September 2020', 'September 2020', 'September 2020', 'September 2020', 'September 2020', 'October 2020', 'October 2020', 'October 2020', 'October 2020', 'October 2020', 'October 2020', 'October 2020', 'October 2020', 'October 2020', 'October 2020', 'October 2020', 'October 2020', 'October 2020', 'October 2020', 'October 2020', 'October 2020', 'October 2020', 'October 2020', 'October 2020', 'October 2020', 'October 2020', 'October 2020', 'October 2020', 'October 2020', 'October 2020', 'October 2020', 'October 2020', 'November 2020', 'November 2020', 'November 2020', 'November 2020', 'November 2020', 'November 2020', 'November 2020', 'November 2020', 'November 2020', 'November 2020', 'November 2020', 'November 2020', 'November 2020', 'November 2020', 'November 2020', 'November 2020', 'November 2020', 'November 2020', 'November 2020', 'November 2020', 'November 2020', 'November 2020', 'November 2020', 'November 2020', 'November 2020', 'November 2020', 'November 2020', 'November 2020', 'November 2020', 'September 2020', 'December 2020', 'December 2020', 'December 2020', 'December 2020', 'December 2020', 'December 2020', 'December 2020', 'December 2020', 'December 2020', 'December 2020', 'December 2020', 'December 2020', 'December 2020', 'December 2020', 'December 2020', 'December 2020', 'December 2020', 'December 2020', 'December 2020', 'December 2020', 'December 2020', 'December 2020', 'December 2020', 'December 2020', 'December 2020', 'December 2020', 'December 2020', 'December 2020', 'December 2020', 'December 2020', 'December 2020', 'December 2020', 'December 2020', 'December 2020', 'December 2020', 'December 2020', 'December 2020', 'December 2020', 'December 2020', 'December 2020', 'December 2020', 'December 2020', 'December 2020', 'December 2020', 'December 2020', 'December 2020', 'December 2020', 'December 2020', 'December 2020', 'December 2020', 'December 2020', 'December 2020', 'December 2020', 'January 2021', 'January 2021', 'January 2021', 'January 2021', 'January 2021', 'January 2021', 'January 2021', 'January 2021', 'January 2021', 'January 2021', 'January 2020', 'January 2021', 'January 2020', 'January 2021', 'January 2020', 'January 2020', 'January 2020', 'January 2020', 'January 2020', 'January 2021', 'January 2021', 'January 2020', 'January 2020', 'January 2021', 'January 2020', 'January 2021', 'January 2020', 'January 2020', 'January 2020', 'January 2020', 'January 2020', 'January 2020', 'January 2021', 'January 2020', 'January 2020', 'January 2020', 'January 2020', 'January 2020', 'January 2020', 'January 2021', 'February 2021', 'February 2021', 'February 2021', 'February 2021', 'February 2021', 'February 2021', 'February 2021', 'February 2021', 'February 2021', 'February 2021', 'February 2021', 'February 2021', 'February 2021', 'February 2021', 'February 2021', 'February 2021', 'February 2021', 'February 2021', 'February 2021', 'February 2021', 'February 2021', 'February 2021', 'February 2021', 'February 2021', 'February 2021', 'February 2021', 'February 2021', 'February 2021', 'February 2021', 'February 2021', 'February 2021', 'February 2021', 'February 2021', 'February 2021', 'February 2021', 'February 2021', 'February 2021', 'February 2021', 'February 2021', 'February 2021', 'February 2021', 'February 2021', 'March 2021', 'March 2021', 'March 2021', 'March 2021', 'March 2021', 'March 2021', 'March 2021', 'March 2021', 'March 2021', 'March 2021', 'March 2021', 'March 2021', 'March 2021', 'March 2021', 'March 2021', 'March 2021', 'March 2021', 'March 2021', 'March 2021', 'March 2021', 'March 2021', 'March 2021', 'March 2021', 'March 2021', 'March 2021', 'March 2021', 'March 2021', 'March 2021', 'March 2021', 'March 2021', 'March 2021', 'March 2021', 'March 2021', 'March 2021', 'March 2021', 'March 2021', 'March 2021', 'March 2021', 'March 2021', 'March 2021', 'March 2021', 'March 2021', 'March 2021', 'March 2021', 'March 2021', 'March 2021', 'March 2021', 'March 2021', 'March 2021', 'March 2021', 'March 2021', 'March 2021', 'March 2021', 'March 2021', 'March 2021', 'March 2021', 'March 2021', 'March 2021', 'April 2021', 'April 2021', 'April 2021', 'April 2021', 'April 2021', 'April 2021', 'April 2021', 'April 2021', 'April 2021', 'April 2021', 'April 2021', 'April 2021', 'April 2021', 'April 2021', 'April 2021', 'April 2021', 'April 2021', 'June 2021', 'June 2021', 'April 2021', 'April 2021', 'April 2021', 'April 2021', 'April 2021', 'June 2021', 'April 2021', 'April 2021', 'June 2021', 'April 2021', 'April 2021', 'April 2021', 'April 2021', 'April 2021', 'April 2021', 'April 2021', 'April 2021', 'April 2021', 'April 2021', 'April 2021', 'April 2021', 'April 2021', 'April 2021', 'April 2021', 'May 2021', 'May 2021', 'May 2021', 'May 2021', 'May 2021', 'May 2021', 'May 2021', 'May 2021', 'May 2021', 'May 2021', 'May 2021', 'May 2021', 'May 2021', 'May 2021', 'May 2021', 'May 2021', 'May 2021', 'May 2021', 'May 2021', 'May 2021', 'May 2021', 'May 2021', 'May 2021', 'May 2021', 'May 2021', 'May 2021', 'May 2021', 'May 2021', 'June 2021', 'June 2021', 'June 2021', 'June 2021', 'June 2021', 'June 2021', 'June 2021', 'June 2021', 'June 2021', 'June 2021', 'June 2021', 'June 2021', 'June 2021', 'June 2021', 'June 2021', 'June 2021', 'June 2021', 'June 2021', 'June 2021', 'June 2021', 'June 2021', 'June 2021', 'June 2021', 'June 2021', 'June 2021', 'June 2021', 'June 2021', 'June 2021', 'June 2021', 'June 2021', 'June 2021', 'June 2021', 'June 2021', 'June 2021', 'July 2021', 'July 2021', 'July 2021', 'July 2021', 'July 2021', 'July 2021', 'July 2021', 'July 2021', 'July 2021', 'July 2021', 'July 2021', 'July 2021', 'July 2021', 'July 2021', 'July 2021', 'July 2021', 'July 2021', 'July 2021', 'July 2021', 'July 2021', 'July 2021', 'July 2021', 'July 2021', 'July 2021', 'July 2021', 'July 2021', 'July 2021', 'July 2021', 'July 2021', 'July 2021', 'July 2021', 'July 2021', 'August 2021', 'August 2021', 'August 2021', 'August 2021', 'August 2021', 'August 2021', 'August 2021', 'August 2021', 'August 2021', 'August 2021', 'August 2021', 'August 2021', 'August 2021', 'August 2021', 'August 2021', 'August 2021', 'August 2021', 'August 2021', 'August 2021', 'August 2021', 'August 2021', 'August 2021', 'August 2021', 'August 2021', 'August 2021', 'August 2021', 'August 2021', 'August 2021', 'August 2021', 'August 2021', 'August 2021', 'August 2021', 'September 2021', 'September 2021', 'September 2021', 'September 2021', 'September 2021', 'September 2021', 'September 2021', 'September 2021', 'November 2021', 'September 2021', 'September 2021', 'September 2021', 'September 2021', 'September 2021', 'September 2021', 'September 2021', 'September 2021', 'September 2021', 'September 2021', 'September 2021', 'September 2021', 'September 2021', 'September 2021', 'September 2021', 'September 2021', 'September 2021', 'September 2021', 'September 2021', 'September 2021', 'September 2021', 'September 2021', 'September 2021', 'September 2021', 'September 2021', 'September 2021', 'September 2021', 'September 2021', 'September 2021', 'September 2021', 'September 2021', 'September 2021', 'September 2021', 'October 2021', 'October 2021', 'October 2021', 'October 2021', 'October 2021', 'October 2021', 'October 2021', 'October 2021', 'October 2021', 'October 2021', 'October 2021', 'October 2021', 'October 2021', 'October 2021', 'October 2021', 'October 2021', 'October 2021', 'October 2021', 'October 2021', 'October 2021', 'October 2021', 'October 2021', 'October 2021', 'October 2021', 'October 2021', 'October 2021', 'October 2021', 'October 2021', 'October 2021', 'October 2021', 'October 2021', 'October 2021', 'October 2021', 'October 2021', 'November 2021', 'November 2021', 'November 2021', 'November 2021', 'November 2021', 'November 2021', 'November 2021', 'November 2021', 'November 2021', 'November 2021', 'November 2021', 'November 2021', 'November 2021', 'November 2021', 'November 2021', 'November 2021', 'November 2021', 'November 2021', 'November 2021', 'November 2021', 'November 2021', 'November 2021', 'November 2021', 'November 2021', 'November 2021', 'November 2021', 'November 2021', 'November 2021', 'November 2021', 'November 2021', 'November 2021', 'November 2021', 'November 2021', 'December 2021', 'December 2021', 'December 2021', 'December 2021', 'December 2021', 'December 2021', 'December 2021', 'December 2021', 'December 2021', 'December 2021', 'December 2021', 'December 2021', 'December 2021', 'December 2021', 'December 2021', 'December 2021', 'December 2021', 'December 2021', 'December 2021', 'December 2021', 'December 2021', 'December 2021', 'December 2021', 'December 2021', 'December 2021', 'December 2021', 'December 2021', 'December 2021', 'December 2021', 'December 2021', 'December 2021', 'December 2021', 'December 2021', 'December 2021', 'December 2021', 'December 2021', 'December 2021', 'December 2021', 'December 2021', 'December 2021', 'December 2021', 'December 2021', 'December 2021', 'January 2022', 'January 2022', 'January 2022', 'January 2022', 'January 2022', 'January 2022', 'January 2022', 'January 2022', 'January 2022', 'January 2022', 'January 2022', 'January 2022', 'January 2022', 'January 2022', 'January 2022', 'January 2022', 'January 2022', 'January 2022', 'January 2022', 'January 2022', 'January 2022', 'January 2022', 'January 2022', 'January 2022', 'January 2022', 'January 2022', 'January 2022', 'January 2022', 'January 2022', 'January 2022', 'January 2022', 'January 2022', 'January 2022', 'February 2022', 'February 2022', 'February 2022', 'February 2022', 'February 2022', 'February 2022', 'February 2022', 'February 2022', 'February 2022', 'February 2022', 'February 2022', 'February 2022', 'February 2022', 'February 2022', 'February 2022', 'February 2022', 'February 2022', 'February 2022', 'February 2022', 'February 2022', 'February 2022', 'February 2022', 'February 2022', 'February 2022', 'February 2022', 'February 2022', 'February 2022', 'February 2022', 'February 2022', 'February 2022', 'February 2022', 'February 2022', 'March 2022', 'March 2022', 'March 2022', 'March 2022', 'March 2022', 'March 2022', 'March 2022', 'March 2022', 'March 2022', 'March 2022', 'March 2022', 'March 2022', 'March 2022', 'March 2022', 'March 2022', 'March 2022', 'March 2022', 'March 2022', 'March 2022', 'March 2022', 'March 2022', 'March 2022', 'March 2022', 'March 2022', 'March 2022', 'March 2022', 'March 2022', 'March 2022', 'March 2022', 'March 2022', 'April 2022', 'March 2022', 'March 2022', 'March 2022', 'March 2022', 'March 2022', 'March 2022', 'March 2022', 'March 2022', 'March 2022', 'March 2022', 'March 2022', 'March 2022', 'March 2022', 'March 2022', 'April 2022', 'April 2022', 'April 2022', 'April 2022', 'April 2022', 'April 2022', 'April 2022', 'April 2022', 'May 2022', 'April 2022', 'April 2022', 'April 2022', 'April 2022', 'April 2022', 'April 2022', 'April 2022', 'April 2022', 'April 2022', 'April 2022', 'April 2022', 'April 2022', 'April 2022', 'April 2022', 'April 2022', 'April 2022', 'April 2022', 'April 2022', 'April 2022', 'April 2022', 'April 2022', 'April 2022', 'April 2022', 'April 2022', 'April 2022', 'April 2022', 'May 2022', 'May 2022', 'May 2022', 'May 2022', 'May 2022', 'May 2022', 'May 2022', 'May 2022', 'May 2022', 'May 2022', 'May 2022', 'May 2022', 'May 2022', 'May 2022', 'May 2022', 'May 2022', 'May 2022', 'May 2022', 'May 2022', 'May 2022', 'May 2022', 'May 2022', 'May 2022', 'May 2022', 'May 2022', 'May 2022', 'May 2022', 'May 2022', 'May 2022', 'May 2022', 'May 2022', 'May 2022', 'May 2022', 'June 2022', 'June 2022', 'June 2022', 'June 2022', 'June 2022', 'June 2022', 'June 2022', 'June 2022', 'June 2022', 'June 2022', 'June 2022', 'June 2022', 'June 2022', 'June 2022', 'June 2022', 'June 2022', 'June 2022', 'June 2022', 'June 2022', 'June 2022', 'June 2022', 'June 2022', 'June 2022', 'June 2022', 'June 2022', 'June 2022', 'June 2022', 'June 2022', 'June 2022', 'June 2022', 'June 2022', 'June 2022', 'June 2022', 'June 2022', 'June 2022', 'June 2022', 'June 2022', 'June 2022', 'June 2022', 'June 2022', 'June 2022', 'June 2022', 'July 2022', 'July 2022', 'July 2022', 'July 2022', 'July 2022', 'July 2022', 'July 2022', 'July 2022', 'July 2022', 'July 2022', 'July 2022', 'July 2022', 'July 2022', 'July 2022', 'July 2022', 'July 2022', 'July 2022', 'July 2022', 'July 2022', 'July 2022', 'July 2022', 'July 2022', 'July 2022', 'July 2022', 'July 2022', 'July 2022', 'July 2022', 'July 2022', 'July 2022', 'July 2022', 'July 2022', 'July 2022', 'July 2022', 'July 2022', 'July 2022', 'July 2022', 'July 2022', 'July 2022', 'August 2022', 'August 2022', 'August 2022', 'August 2022', 'August 2022', 'August 2022', 'August 2022', 'August 2022', 'August 2022', 'August 2022', 'August 2022', 'August 2022', 'August 2022', 'August 2022', 'August 2022', 'August 2022', 'August 2022', 'August 2022', 'August 2022', 'August 2022', 'August 2022', 'August 2022', 'August 2022', 'August 2022', 'August 2022', 'August 2022', 'August 2022', 'August 2022', 'August 2022', 'August 2022', 'August 2022', 'August 2022', 'August 2022', 'August 2022', nan, 'October 2022', 'September 2022', 'September 2022', 'September 2022', 'September 2022', 'September 2022', 'September 2022', 'September 2022', 'September 2022', 'September 2022', 'September 2022', 'September 2022', 'September 2022', 'September 2022', 'September 2022', 'September 2022', 'September 2022', 'September 2022', 'September 2022', 'September 2022', 'September 2022', 'September 2022', 'September 2022', 'September 2022', 'September 2022', 'September 2022', 'September 2022', 'September 2022', 'September 2022', 'September 2022', 'September 2022', 'September 2022', 'September 2022', 'September 2022', 'September 2022', 'September 2022', 'September 2022', 'September 2022', 'September 2022', 'September 2022', 'September 2022', 'September 2022', 'September 2022', 'September 2022', 'September 2022', 'September 2022', 'October 2022', 'October 2022', 'October 2022', 'October 2022', 'October 2022', 'October 2022', 'October 2022', 'October 2022', 'October 2022', 'October 2022', 'October 2022', 'October 2022', 'October 2022', 'October 2022', 'October 2022', 'October 2022', 'October 2022', 'October 2022', 'October 2022', 'October 2022', 'October 2022', 'October 2022', 'October 2022', 'October 2022', 'October 2022', 'October 2022', 'October 2022', 'October 2022', 'October 2022', 'October 2022', 'October 2022', 'October 2022', 'October 2022', 'October 2022', 'November 2022', 'November 2022', 'November 2022', 'November 2022', 'November 2022', 'November 2022', 'November 2022', 'November 2022', 'November 2022', 'November 2022', 'November 2022', 'November 2022', 'November 2022', 'November 2022', 'November 2022', 'November 2022', 'November 2022', 'November 2022', 'November 2022', 'November 2022', 'November 2022', 'November 2022', 'November 2022', 'November 2022', 'November 2022', 'November 2022', 'November 2022', 'November 2022', 'November 2022', 'November 2022', 'November 2022', 'November 2022', 'November 2022', 'November 2022', 'November 2022', 'December 2022', 'December 2022', 'December 2022', 'December 2022', 'December 2022', 'December 2022', 'December 2022', 'December 2022', 'December 2022', 'December 2022', 'December 2022', 'December 2022', 'December 2022', 'December 2022', 'December 2022', 'December 2022', 'December 2022', 'December 2022', 'December 2022', 'December 2022', 'December 2022', 'December 2022', 'December 2022', 'December 2022', 'December 2022', 'December 2022', 'December 2022', 'December 2022', 'December 2022', 'December 2022', 'December 2022', 'December 2022', 'December 2022', 'December 2022', 'December 2022', 'December 2022', 'December 2022', 'December 2022', 'December 2022', 'December 2022', 'December 2022', 'December 2022', 'December 2022', 'December 2022', 'January 2023', 'January 2023', 'January 2023', 'January 2023', 'January 2023', 'January 2023', 'January 2023', 'January 2023', 'January 2023', 'January 2023', 'January 2023', 'January 2023', 'January 2023', 'January 2023', 'January 2023', 'January 2023', 'January 2023', 'January 2023', 'January 2023', 'January 2023', 'January 2023', 'January 2023', 'January 2023', 'January 2023', 'January 2023', 'January 2023', 'January 2023', 'January 2023', 'January 2023', 'January 2023', 'January 2023', 'January 2023', 'January 2023', 'January 2023', 'January 2023', 'January 2023', 'March 2023', 'March 2023', 'March 2023', 'March 2023', 'March 2023', 'June 2022', 'February 2023', 'February 2023', 'February 2023', 'February 2023', 'February 2023', 'February 2023', 'February 2023', 'February 2023', 'February 2023', 'February 2023', 'February 2023', 'February 2023', 'February 2023', 'February 2023', 'February 2023', 'February 2023', 'February 2023', 'February 2023', 'February 2023', 'February 2023', 'February 2023', 'February 2023', 'February 2023', 'February 2023', 'February 2023', 'February 2023', 'February 2023', 'February 2023', 'February 2023', 'February 2023', 'February 2023', 'February 2023', 'February 2023', 'February 2023', 'February 2023', 'February 2023', 'March 2023', 'March 2023', 'March 2023', 'March 2023', 'March 2023', 'March 2023', 'March 2023', 'March 2023', 'March 2023', 'March 2023', 'March 2023', 'March 2023', 'March 2023', 'March 2023', 'March 2023', 'March 2023', 'March 2023', 'March 2023', 'March 2023', 'March 2023', 'March 2023', 'March 2023', 'March 2023', 'March 2023', 'March 2023', 'March 2023', 'March 2023', 'March 2023', 'March 2023', 'March 2023', 'March 2023', 'March 2023', 'March 2023', 'March 2023', 'March 2023', 'March 2023', 'March 2023', 'March 2023', 'March 2023', 'March 2023', 'March 2023', 'March 2023', 'March 2023', 'March 2023', 'March 2023', 'March 2023', 'March 2023', 'April 2023', 'April 2023', 'April 2023', 'April 2023', 'April 2023', 'April 2023', 'April 2023', 'April 2023', 'April 2023', 'April 2023', 'April 2023', 'April 2023', 'April 2023', 'April 2023', 'April 2023', 'April 2023', 'April 2023', 'April 2023', 'April 2023', 'April 2023', 'April 2023', 'May 2023', 'May 2023', 'May 2023', 'April 2023', 'April 2023', 'April 2023', 'April 2023', 'April 2023', 'April 2023', 'April 2023', 'April 2023', 'April 2023', 'April 2023', 'May 2023', 'May 2023', 'May 2023', 'May 2023', 'May 2023', 'May 2023', 'May 2023', 'May 2023', 'May 2023', 'May 2023', 'May 2023', 'May 2023', 'May 2023', 'May 2023', 'May 2023', 'May 2023', 'May 2023', 'May 2023', 'May 2023', 'May 2023', 'May 2023', 'May 2023', 'May 2023', 'May 2023', 'May 2023', 'May 2023', 'May 2023', 'May 2023', 'May 2023', 'May 2023', 'May 2023', 'May 2023', 'May 2023', 'May 2023', 'May 2023', 'May 2023', 'May 2023', 'May 2023', 'June 2023', 'June 2023', 'June 2023', 'June 2023', 'June 2023', 'June 2023', 'June 2023', 'June 2023', 'June 2023', 'June 2023', 'June 2023', 'June 2023', 'June 2023', 'June 2023', 'June 2023', 'June 2023', 'June 2023', 'June 2023', 'June 2023', 'June 2023', 'June 2023', 'June 2023', 'June 2023', 'June 2023', 'June 2023', 'June 2023', 'June 2023', 'June 2023', 'June 2023', 'June 2023', 'June 2023', 'June 2023', 'June 2023', 'June 2023', 'June 2023', 'June 2023', 'June 2023', 'June 2023', 'June 2023', 'June 2023', 'June 2023', 'June 2023', 'June 2023', 'June 2023', 'June 2023', 'July 2023', 'July 2023', 'July 2023', 'July 2023', 'July 2023', 'July 2023', 'July 2023', 'July 2023', 'July 2023', 'July 2023', 'July 2023', 'July 2023', 'July 2023', 'July 2023', 'July 2023', 'July 2023', 'July 2023', 'July 2023', 'July 2023', 'July 2023', 'July 2023', 'July 2023', 'July 2023', 'July 2023', 'July 2023', 'July 2023', 'July 2023', 'July 2023', 'July 2023', 'July 2023', 'July 2023', 'July 2023', 'July 2023', 'July 2023', 'July 2023', 'July 2023', 'July 2023', 'July 2023', 'July 2023', 'July 2023', 'August 2023', 'August 2023', 'August 2023', 'August 2023', 'August 2023', 'August 2023', 'August 2023', 'August 2023', 'August 2023', 'August 2023', 'August 2023', 'August 2023', 'August 2023', 'August 2023', 'August 2023', 'August 2023', 'August 2023', 'August 2023', 'August 2023', 'August 2023', 'August 2023', 'August 2023', 'August 2023', 'August 2023', 'August 2023', 'August 2023', 'August 2023', 'August 2023', 'August 2023', 'August 2023', 'August 2023', 'August 2023', 'August 2023', 'August 2023', 'August 2023', 'August 2023', 'September 2023', 'September 2023', 'September 2023', 'September 2023', 'September 2023', 'September 2023', 'September 2023', 'September 2023', 'September 2023', 'September 2023', 'September 2023', 'September 2023', 'September 2023', 'September 2023', 'September 2023', 'September 2023', 'September 2023', 'September 2023', 'September 2023', 'September 2023', 'September 2023', 'September 2023', 'September 2023', 'September 2023', 'September 2023', 'September 2023', 'September 2023', 'September 2023', 'September 2023', 'September 2023', 'September 2023', 'September 2023', 'September 2023', 'September 2023', 'September 2023', 'September 2023', 'September 2023', 'September 2023', 'September 2023', 'September 2023', 'September 2023', 'September 2023', 'September 2023', 'September 2023', 'September 2023', 'September 2023', 'September 2023', 'September 2023', 'September 2023', 'October 2023', 'October 2023', 'October 2023', 'October 2023', 'October 2023', 'October 2023', 'October 2023', 'October 2023', 'October 2023', 'October 2023', 'October 2023', 'October 2023', 'October 2023', 'October 2023', 'October 2023', 'October 2023', 'October 2023', 'October 2023', 'October 2023', 'October 2023', 'October 2023', 'October 2023', 'October 2023', 'October 2023', 'October 2023', 'October 2023', 'October 2023', 'October 2023', 'October 2023', 'October 2023', 'October 2023', 'October 2023', 'October 2023', 'October 2023', 'October 2023', 'October 2023', 'October 2023', 'October 2023', 'November 2023', 'November 2023', 'November 2023', 'November 2023', 'November 2023', 'November 2023', 'November 2023', 'November 2023', 'November 2023', 'November 2023', 'November 2023', 'November 2023', 'November 2023', 'November 2023', 'November 2023', 'November 2023', 'November 2023', 'November 2023', 'November 2023', 'November 2023', 'November 2023', 'November 2023', 'November 2023', 'November 2023', 'November 2023', 'November 2023', 'November 2023', 'November 2023', 'November 2023', 'November 2023', 'November 2023', 'November 2023', 'November 2023', 'November 2023', 'November 2023', 'November 2023', 'November 2023', 'November 2023', 'December 2023', 'December 2023', 'December 2023', 'December 2023', 'December 2023', 'December 2023', 'December 2023', 'December 2023', 'December 2023', 'December 2023', 'December 2023', 'December 2023', 'December 2023', 'December 2023', 'December 2023', 'December 2023', 'December 2023', 'December 2023', 'December 2023', 'December 2023', 'December 2023', 'December 2023', 'December 2023', 'December 2023', 'December 2023', 'December 2023', 'December 2023', 'December 2023', 'December 2023', 'December 2023', 'December 2023', 'December 2023', 'December 2023', 'December 2023', 'December 2023', 'December 2023', 'December 2023', nan, 'December 2023', 'December 2023', 'December 2023', 'December 2023', 'December 2023', 'December 2023', 'December 2023', 'December 2023', 'December 2023', 'January 2024', 'January 2024', 'January 2024', 'January 2024', 'January 2024', 'January 2024', 'January 2024', 'January 2024', 'January 2024', 'January 2024', 'January 2024', 'January 2024', 'January 2024', 'January 2024', 'January 2024', 'January 2024', 'January 2024', 'January 2024', 'January 2024', 'January 2024', 'January 2024', 'January 2024', 'January 2024', 'January 2024', 'January 2024', 'January 2024', 'January 2024', 'January 2024', 'January 2024', 'January 2024', 'January 2024', 'January 2024', 'January 2024', 'January 2024', 'January 2024', 'January 2024', 'January 2024', 'January 2024', 'February 2024', 'February 2024', 'February 2024', 'February 2024', 'February 2024', 'February 2024', 'February 2024', 'February 2024', 'February 2024', 'February 2024', 'February 2024', 'February 2024', 'February 2024', 'February 2024', 'February 2024', 'February 2024', 'February 2024', 'February 2024', 'February 2024', 'February 2024', 'February 2024', 'February 2024', 'February 2024', 'February 2024', 'February 2024', 'February 2024', 'February 2024', 'February 2024', 'February 2024', 'February 2024', 'February 2024', 'February 2024', 'February 2024', 'February 2024', 'February 2024', 'February 2024', nan, 'February 2024', 'March 2024', 'March 2024', 'March 2024', 'March 2024', 'March 2024', 'March 2024', 'March 2024', 'March 2024', 'March 2024', 'March 2024', 'March 2024', 'March 2024', 'March 2024', 'March 2024', 'March 2024', 'March 2024', 'March 2024', 'March 2024', 'March 2024', 'March 2024', 'March 2024', 'March 2024', 'March 2024', 'March 2024', 'March 2024', 'March 2024', 'March 2024', 'March 2024', 'March 2024', 'March 2024', 'March 2024', 'March 2024', 'March 2024', 'March 2024', 'March 2024', 'March 2024', 'March 2024', 'March 2024', 'March 2024', 'March 2024', 'March 2024', 'March 2024', 'March 2024', 'March 2024', 'March 2024', 'March 2024', 'March 2024', 'March 2024', 'March 2024', 'March 2024', 'March 2024', 'March 2024', 'March 2024']\n"
     ]
    }
   ],
   "source": [
    "print(list1)"
   ]
  },
  {
   "cell_type": "code",
   "execution_count": 8,
   "metadata": {},
   "outputs": [
    {
     "name": "stdout",
     "output_type": "stream",
     "text": [
      "Collecting numpyNote: you may need to restart the kernel to use updated packages.\n",
      "\n",
      "  Using cached numpy-1.26.4-cp312-cp312-win_amd64.whl.metadata (61 kB)\n",
      "Using cached numpy-1.26.4-cp312-cp312-win_amd64.whl (15.5 MB)\n",
      "Installing collected packages: numpy\n",
      "Successfully installed numpy-1.26.4\n"
     ]
    }
   ],
   "source": [
    "%pip install numpy"
   ]
  },
  {
   "cell_type": "code",
   "execution_count": 31,
   "metadata": {},
   "outputs": [],
   "source": [
    "import pywintypes\n",
    "import datetime\n",
    "import numpy as np\n",
    "\n",
    "file_path = \"D:/Projects/test/month.txt\"\n",
    "\n",
    "with open(file_path, 'r') as file:\n",
    "    lines = file.readlines()\n",
    "\n",
    "# Extract the dates from the file content\n",
    "dates = [line.strip() for line in lines]\n",
    "\n",
    "# Convert the dates to datetime objects\n",
    "datetime_objects = []\n",
    "for date in dates:\n",
    "    if date != 'None':\n",
    "        datetime_objects.append(datetime.datetime.fromisoformat(date))\n",
    "    else:\n",
    "        datetime_objects.append(np.nan)\n",
    "\n",
    "# Convert the datetime objects to formatted strings\n",
    "formatted_dates = []\n",
    "for date in datetime_objects:\n",
    "    if isinstance(date, float):\n",
    "        formatted_dates.append(str(date))\n",
    "    else:\n",
    "        formatted_dates.append(date.strftime('%B %Y'))\n",
    "\n",
    "# Join the formatted dates into a single string\n",
    "with open(file_path, 'w') as file:\n",
    "    file.writelines(formatted_dates)\n",
    "\n",
    "# print(formatted_dates)"
   ]
  },
  {
   "cell_type": "code",
   "execution_count": 32,
   "metadata": {},
   "outputs": [
    {
     "name": "stdout",
     "output_type": "stream",
     "text": [
      "December 202\n",
      "3February 20\n",
      "24February 2\n",
      "024February \n",
      "2024February\n",
      " 2024Februar\n",
      "y 2024Februa\n",
      "ry 2024Febru\n",
      "ary 2024Febr\n",
      "uary 2024Feb\n",
      "ruary 2024Fe\n",
      "bruary 2024F\n",
      "ebruary 2024\n",
      "February 202\n",
      "4February 20\n",
      "24February 2\n",
      "024February \n",
      "2024February\n",
      " 2024Februar\n",
      "y 2024Februa\n",
      "ry 2024Febru\n",
      "ary 2024Febr\n",
      "uary 2024Feb\n",
      "ruary 2024Fe\n",
      "bruary 2024F\n",
      "ebruary 2024\n",
      "February 202\n",
      "4February 20\n",
      "24February 2\n",
      "024\n"
     ]
    }
   ],
   "source": [
    "text = \"\"\"December 2023February 2024February 2024February 2024February 2024February 2024February 2024February 2024February 2024February 2024February 2024February 2024February 2024February 2024February 2024February 2024February 2024February 2024February 2024February 2024February 2024February 2024February 2024February 2024February 2024February 2024February 2024\"\"\"\n",
    "\n",
    "# Split the text into individual month-year combinations\n",
    "dates = [text[i:i+12] for i in range(0, len(text), 12)]\n",
    "\n",
    "# Print each combination on its own line\n",
    "for date in dates:\n",
    "    print(date)"
   ]
  }
 ],
 "metadata": {
  "kernelspec": {
   "display_name": "hrm",
   "language": "python",
   "name": "python3"
  },
  "language_info": {
   "codemirror_mode": {
    "name": "ipython",
    "version": 3
   },
   "file_extension": ".py",
   "mimetype": "text/x-python",
   "name": "python",
   "nbconvert_exporter": "python",
   "pygments_lexer": "ipython3",
   "version": "3.12.3"
  }
 },
 "nbformat": 4,
 "nbformat_minor": 2
}
